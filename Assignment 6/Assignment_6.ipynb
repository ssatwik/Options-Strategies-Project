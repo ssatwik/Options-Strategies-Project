{
 "cells": [
  {
   "cell_type": "markdown",
   "id": "817e4773-e915-4495-9384-eb7d0f0217db",
   "metadata": {},
   "source": [
    "# Assignment 6"
   ]
  },
  {
   "cell_type": "markdown",
   "id": "452bfdae-5213-476e-8a1e-ee3cfa08128a",
   "metadata": {},
   "source": [
    "# Task-1"
   ]
  },
  {
   "cell_type": "code",
   "execution_count": 1,
   "id": "54734ea4-0d5e-4bbe-84d2-097cdf298918",
   "metadata": {},
   "outputs": [],
   "source": [
    "import numpy as np\n",
    "import pandas as pd\n",
    "import matplotlib.pyplot as plt\n",
    "import yfinance as yf\n",
    "from itertools import combinations"
   ]
  },
  {
   "cell_type": "code",
   "execution_count": 7,
   "id": "2e9dc894-a796-496b-acca-65c0707ff937",
   "metadata": {},
   "outputs": [
    {
     "name": "stdin",
     "output_type": "stream",
     "text": [
      "Enter number of available assets:  5\n",
      "Enter ticker of stock 1:  META\n",
      "Enter ticker of stock 2:  NFLX\n",
      "Enter ticker of stock 3:  AMZN\n",
      "Enter ticker of stock 4:  TSLA\n",
      "Enter ticker of stock 5:  NVDA\n",
      "Enter start date of historical data(YYYY-MM-DD):  2023-01-01\n",
      "Enter end date of historical data(YYYY-MM-DD):  2024-06-01\n",
      "Enter number of assets you want in your portfolio:  3\n"
     ]
    }
   ],
   "source": [
    "num_assets = int(input(\"Enter number of available assets: \"))\n",
    "tickers = []\n",
    "for i in range(num_assets):\n",
    "    tickers.append(input(f\"Enter ticker of stock {i+1}: \"))    \n",
    "start = input(\"Enter start date of historical data(YYYY-MM-DD): \")\n",
    "end = input(\"Enter end date of historical data(YYYY-MM-DD): \")\n",
    "num_portfolio = int(input(\"Enter number of assets you want in your portfolio: \"))"
   ]
  },
  {
   "cell_type": "code",
   "execution_count": 8,
   "id": "840cc857-dcb7-4ac8-950b-6bb76c23646a",
   "metadata": {},
   "outputs": [
    {
     "name": "stderr",
     "output_type": "stream",
     "text": [
      "[*********************100%%**********************]  5 of 5 completed\n"
     ]
    }
   ],
   "source": [
    "data = yf.download(tickers, start='2020-01-01', end='2023-01-01')['Adj Close']"
   ]
  },
  {
   "cell_type": "code",
   "execution_count": 9,
   "id": "14057133-199e-45ea-8b41-652d4d8031af",
   "metadata": {},
   "outputs": [
    {
     "data": {
      "text/html": [
       "<div>\n",
       "<style scoped>\n",
       "    .dataframe tbody tr th:only-of-type {\n",
       "        vertical-align: middle;\n",
       "    }\n",
       "\n",
       "    .dataframe tbody tr th {\n",
       "        vertical-align: top;\n",
       "    }\n",
       "\n",
       "    .dataframe thead th {\n",
       "        text-align: right;\n",
       "    }\n",
       "</style>\n",
       "<table border=\"1\" class=\"dataframe\">\n",
       "  <thead>\n",
       "    <tr style=\"text-align: right;\">\n",
       "      <th>Ticker</th>\n",
       "      <th>AMZN</th>\n",
       "      <th>META</th>\n",
       "      <th>NFLX</th>\n",
       "      <th>NVDA</th>\n",
       "      <th>TSLA</th>\n",
       "    </tr>\n",
       "    <tr>\n",
       "      <th>Date</th>\n",
       "      <th></th>\n",
       "      <th></th>\n",
       "      <th></th>\n",
       "      <th></th>\n",
       "      <th></th>\n",
       "    </tr>\n",
       "  </thead>\n",
       "  <tbody>\n",
       "    <tr>\n",
       "      <th>2020-01-02</th>\n",
       "      <td>94.900497</td>\n",
       "      <td>209.349792</td>\n",
       "      <td>329.809998</td>\n",
       "      <td>5.973633</td>\n",
       "      <td>28.684000</td>\n",
       "    </tr>\n",
       "    <tr>\n",
       "      <th>2020-01-03</th>\n",
       "      <td>93.748497</td>\n",
       "      <td>208.242081</td>\n",
       "      <td>325.899994</td>\n",
       "      <td>5.878020</td>\n",
       "      <td>29.534000</td>\n",
       "    </tr>\n",
       "    <tr>\n",
       "      <th>2020-01-06</th>\n",
       "      <td>95.143997</td>\n",
       "      <td>212.164032</td>\n",
       "      <td>335.829987</td>\n",
       "      <td>5.902669</td>\n",
       "      <td>30.102667</td>\n",
       "    </tr>\n",
       "    <tr>\n",
       "      <th>2020-01-07</th>\n",
       "      <td>95.343002</td>\n",
       "      <td>212.623077</td>\n",
       "      <td>330.750000</td>\n",
       "      <td>5.974132</td>\n",
       "      <td>31.270666</td>\n",
       "    </tr>\n",
       "    <tr>\n",
       "      <th>2020-01-08</th>\n",
       "      <td>94.598503</td>\n",
       "      <td>214.778656</td>\n",
       "      <td>339.260010</td>\n",
       "      <td>5.985336</td>\n",
       "      <td>32.809334</td>\n",
       "    </tr>\n",
       "    <tr>\n",
       "      <th>...</th>\n",
       "      <td>...</td>\n",
       "      <td>...</td>\n",
       "      <td>...</td>\n",
       "      <td>...</td>\n",
       "      <td>...</td>\n",
       "    </tr>\n",
       "    <tr>\n",
       "      <th>2022-12-23</th>\n",
       "      <td>85.250000</td>\n",
       "      <td>117.797935</td>\n",
       "      <td>294.959991</td>\n",
       "      <td>15.197295</td>\n",
       "      <td>123.150002</td>\n",
       "    </tr>\n",
       "    <tr>\n",
       "      <th>2022-12-27</th>\n",
       "      <td>83.040001</td>\n",
       "      <td>116.640312</td>\n",
       "      <td>284.170013</td>\n",
       "      <td>14.112917</td>\n",
       "      <td>109.099998</td>\n",
       "    </tr>\n",
       "    <tr>\n",
       "      <th>2022-12-28</th>\n",
       "      <td>81.820000</td>\n",
       "      <td>115.382896</td>\n",
       "      <td>276.880005</td>\n",
       "      <td>14.027965</td>\n",
       "      <td>112.709999</td>\n",
       "    </tr>\n",
       "    <tr>\n",
       "      <th>2022-12-29</th>\n",
       "      <td>84.180000</td>\n",
       "      <td>120.013382</td>\n",
       "      <td>291.119995</td>\n",
       "      <td>14.594640</td>\n",
       "      <td>121.820000</td>\n",
       "    </tr>\n",
       "    <tr>\n",
       "      <th>2022-12-30</th>\n",
       "      <td>84.000000</td>\n",
       "      <td>120.093208</td>\n",
       "      <td>294.880005</td>\n",
       "      <td>14.605634</td>\n",
       "      <td>123.180000</td>\n",
       "    </tr>\n",
       "  </tbody>\n",
       "</table>\n",
       "<p>756 rows × 5 columns</p>\n",
       "</div>"
      ],
      "text/plain": [
       "Ticker           AMZN        META        NFLX       NVDA        TSLA\n",
       "Date                                                                \n",
       "2020-01-02  94.900497  209.349792  329.809998   5.973633   28.684000\n",
       "2020-01-03  93.748497  208.242081  325.899994   5.878020   29.534000\n",
       "2020-01-06  95.143997  212.164032  335.829987   5.902669   30.102667\n",
       "2020-01-07  95.343002  212.623077  330.750000   5.974132   31.270666\n",
       "2020-01-08  94.598503  214.778656  339.260010   5.985336   32.809334\n",
       "...               ...         ...         ...        ...         ...\n",
       "2022-12-23  85.250000  117.797935  294.959991  15.197295  123.150002\n",
       "2022-12-27  83.040001  116.640312  284.170013  14.112917  109.099998\n",
       "2022-12-28  81.820000  115.382896  276.880005  14.027965  112.709999\n",
       "2022-12-29  84.180000  120.013382  291.119995  14.594640  121.820000\n",
       "2022-12-30  84.000000  120.093208  294.880005  14.605634  123.180000\n",
       "\n",
       "[756 rows x 5 columns]"
      ]
     },
     "execution_count": 9,
     "metadata": {},
     "output_type": "execute_result"
    }
   ],
   "source": [
    "data"
   ]
  },
  {
   "cell_type": "code",
   "execution_count": 10,
   "id": "2358133a-3ae7-4bbc-8aae-cd92014be3e3",
   "metadata": {},
   "outputs": [],
   "source": [
    "returns = data.pct_change()\n",
    "correlation_matrix = returns.corr()"
   ]
  },
  {
   "cell_type": "code",
   "execution_count": 11,
   "id": "c08e9994-f877-4959-8b79-d58e78e73624",
   "metadata": {},
   "outputs": [
    {
     "data": {
      "text/html": [
       "<div>\n",
       "<style scoped>\n",
       "    .dataframe tbody tr th:only-of-type {\n",
       "        vertical-align: middle;\n",
       "    }\n",
       "\n",
       "    .dataframe tbody tr th {\n",
       "        vertical-align: top;\n",
       "    }\n",
       "\n",
       "    .dataframe thead th {\n",
       "        text-align: right;\n",
       "    }\n",
       "</style>\n",
       "<table border=\"1\" class=\"dataframe\">\n",
       "  <thead>\n",
       "    <tr style=\"text-align: right;\">\n",
       "      <th>Ticker</th>\n",
       "      <th>AMZN</th>\n",
       "      <th>META</th>\n",
       "      <th>NFLX</th>\n",
       "      <th>NVDA</th>\n",
       "      <th>TSLA</th>\n",
       "    </tr>\n",
       "    <tr>\n",
       "      <th>Ticker</th>\n",
       "      <th></th>\n",
       "      <th></th>\n",
       "      <th></th>\n",
       "      <th></th>\n",
       "      <th></th>\n",
       "    </tr>\n",
       "  </thead>\n",
       "  <tbody>\n",
       "    <tr>\n",
       "      <th>AMZN</th>\n",
       "      <td>1.000000</td>\n",
       "      <td>0.619072</td>\n",
       "      <td>0.592819</td>\n",
       "      <td>0.663039</td>\n",
       "      <td>0.477203</td>\n",
       "    </tr>\n",
       "    <tr>\n",
       "      <th>META</th>\n",
       "      <td>0.619072</td>\n",
       "      <td>1.000000</td>\n",
       "      <td>0.551360</td>\n",
       "      <td>0.601932</td>\n",
       "      <td>0.369628</td>\n",
       "    </tr>\n",
       "    <tr>\n",
       "      <th>NFLX</th>\n",
       "      <td>0.592819</td>\n",
       "      <td>0.551360</td>\n",
       "      <td>1.000000</td>\n",
       "      <td>0.522988</td>\n",
       "      <td>0.408418</td>\n",
       "    </tr>\n",
       "    <tr>\n",
       "      <th>NVDA</th>\n",
       "      <td>0.663039</td>\n",
       "      <td>0.601932</td>\n",
       "      <td>0.522988</td>\n",
       "      <td>1.000000</td>\n",
       "      <td>0.548814</td>\n",
       "    </tr>\n",
       "    <tr>\n",
       "      <th>TSLA</th>\n",
       "      <td>0.477203</td>\n",
       "      <td>0.369628</td>\n",
       "      <td>0.408418</td>\n",
       "      <td>0.548814</td>\n",
       "      <td>1.000000</td>\n",
       "    </tr>\n",
       "  </tbody>\n",
       "</table>\n",
       "</div>"
      ],
      "text/plain": [
       "Ticker      AMZN      META      NFLX      NVDA      TSLA\n",
       "Ticker                                                  \n",
       "AMZN    1.000000  0.619072  0.592819  0.663039  0.477203\n",
       "META    0.619072  1.000000  0.551360  0.601932  0.369628\n",
       "NFLX    0.592819  0.551360  1.000000  0.522988  0.408418\n",
       "NVDA    0.663039  0.601932  0.522988  1.000000  0.548814\n",
       "TSLA    0.477203  0.369628  0.408418  0.548814  1.000000"
      ]
     },
     "execution_count": 11,
     "metadata": {},
     "output_type": "execute_result"
    }
   ],
   "source": [
    "correlation_matrix"
   ]
  },
  {
   "cell_type": "code",
   "execution_count": 12,
   "id": "fe2e9edb-d9fe-4583-8ab6-9abf98dc13ff",
   "metadata": {},
   "outputs": [
    {
     "name": "stdout",
     "output_type": "stream",
     "text": [
      "('META', 'NFLX', 'AMZN') 0.6190723317446476\n",
      "('META', 'NFLX', 'TSLA') 0.5513603025633611\n",
      "('META', 'NFLX', 'NVDA') 0.6019322392708486\n",
      "('META', 'AMZN', 'TSLA') 0.6190723317446476\n",
      "('META', 'AMZN', 'NVDA') 0.6630385694434735\n",
      "('META', 'TSLA', 'NVDA') 0.6019322392708486\n",
      "('NFLX', 'AMZN', 'TSLA') 0.5928188039001671\n",
      "('NFLX', 'AMZN', 'NVDA') 0.6630385694434735\n",
      "('NFLX', 'TSLA', 'NVDA') 0.548814306167929\n",
      "('AMZN', 'TSLA', 'NVDA') 0.6630385694434735\n"
     ]
    }
   ],
   "source": [
    "min_corr = 1\n",
    "stocks = []\n",
    "for subset in combinations(tickers,num_portfolio):\n",
    "    max_corr=0\n",
    "    for x in subset:\n",
    "        for y in subset:\n",
    "            if x==y: continue\n",
    "            if max_corr<np.abs(correlation_matrix.loc[x,y]): max_corr = np.abs(correlation_matrix.loc[x,y])\n",
    "    if min_corr>max_corr:\n",
    "        stocks = subset\n",
    "        min_corr = max_corr\n",
    "    print(subset,max_corr)    "
   ]
  },
  {
   "cell_type": "code",
   "execution_count": 13,
   "id": "363cfeee-a3f0-48e4-96bf-8a541cdf4878",
   "metadata": {},
   "outputs": [
    {
     "name": "stdout",
     "output_type": "stream",
     "text": [
      "Stocks with minimum correlation : ('NFLX', 'TSLA', 'NVDA')\n",
      "Correlation = 0.548814306167929\n"
     ]
    }
   ],
   "source": [
    "print(f\"Stocks with minimum correlation : {stocks}\")\n",
    "print(f\"Correlation = {min_corr}\")"
   ]
  },
  {
   "cell_type": "markdown",
   "id": "234f9c9a-d36e-4a21-a3f2-b08dbf3ef7ac",
   "metadata": {},
   "source": [
    "# Task-2"
   ]
  },
  {
   "cell_type": "code",
   "execution_count": 18,
   "id": "79632ee5-745a-4f34-972c-76b202764ebf",
   "metadata": {},
   "outputs": [],
   "source": [
    "# data.to_csv('Assignment_6_data.csv',index=False)"
   ]
  },
  {
   "cell_type": "code",
   "execution_count": 19,
   "id": "97d1370a-97f3-4a56-8615-a07398379212",
   "metadata": {},
   "outputs": [],
   "source": [
    "data = pd.read_csv('Assignment_6_data.csv')"
   ]
  },
  {
   "cell_type": "code",
   "execution_count": 20,
   "id": "a6cdf9f6-0ece-4806-ae3d-147052a3a9ea",
   "metadata": {},
   "outputs": [
    {
     "data": {
      "text/html": [
       "<div>\n",
       "<style scoped>\n",
       "    .dataframe tbody tr th:only-of-type {\n",
       "        vertical-align: middle;\n",
       "    }\n",
       "\n",
       "    .dataframe tbody tr th {\n",
       "        vertical-align: top;\n",
       "    }\n",
       "\n",
       "    .dataframe thead th {\n",
       "        text-align: right;\n",
       "    }\n",
       "</style>\n",
       "<table border=\"1\" class=\"dataframe\">\n",
       "  <thead>\n",
       "    <tr style=\"text-align: right;\">\n",
       "      <th></th>\n",
       "      <th>AMZN</th>\n",
       "      <th>META</th>\n",
       "      <th>NFLX</th>\n",
       "      <th>NVDA</th>\n",
       "      <th>TSLA</th>\n",
       "    </tr>\n",
       "  </thead>\n",
       "  <tbody>\n",
       "    <tr>\n",
       "      <th>0</th>\n",
       "      <td>94.900497</td>\n",
       "      <td>209.349792</td>\n",
       "      <td>329.809998</td>\n",
       "      <td>5.973633</td>\n",
       "      <td>28.684000</td>\n",
       "    </tr>\n",
       "    <tr>\n",
       "      <th>1</th>\n",
       "      <td>93.748497</td>\n",
       "      <td>208.242081</td>\n",
       "      <td>325.899994</td>\n",
       "      <td>5.878020</td>\n",
       "      <td>29.534000</td>\n",
       "    </tr>\n",
       "    <tr>\n",
       "      <th>2</th>\n",
       "      <td>95.143997</td>\n",
       "      <td>212.164032</td>\n",
       "      <td>335.829987</td>\n",
       "      <td>5.902669</td>\n",
       "      <td>30.102667</td>\n",
       "    </tr>\n",
       "    <tr>\n",
       "      <th>3</th>\n",
       "      <td>95.343002</td>\n",
       "      <td>212.623077</td>\n",
       "      <td>330.750000</td>\n",
       "      <td>5.974132</td>\n",
       "      <td>31.270666</td>\n",
       "    </tr>\n",
       "    <tr>\n",
       "      <th>4</th>\n",
       "      <td>94.598503</td>\n",
       "      <td>214.778656</td>\n",
       "      <td>339.260010</td>\n",
       "      <td>5.985336</td>\n",
       "      <td>32.809334</td>\n",
       "    </tr>\n",
       "    <tr>\n",
       "      <th>...</th>\n",
       "      <td>...</td>\n",
       "      <td>...</td>\n",
       "      <td>...</td>\n",
       "      <td>...</td>\n",
       "      <td>...</td>\n",
       "    </tr>\n",
       "    <tr>\n",
       "      <th>751</th>\n",
       "      <td>85.250000</td>\n",
       "      <td>117.797935</td>\n",
       "      <td>294.959991</td>\n",
       "      <td>15.197295</td>\n",
       "      <td>123.150002</td>\n",
       "    </tr>\n",
       "    <tr>\n",
       "      <th>752</th>\n",
       "      <td>83.040001</td>\n",
       "      <td>116.640312</td>\n",
       "      <td>284.170013</td>\n",
       "      <td>14.112917</td>\n",
       "      <td>109.099998</td>\n",
       "    </tr>\n",
       "    <tr>\n",
       "      <th>753</th>\n",
       "      <td>81.820000</td>\n",
       "      <td>115.382896</td>\n",
       "      <td>276.880005</td>\n",
       "      <td>14.027965</td>\n",
       "      <td>112.709999</td>\n",
       "    </tr>\n",
       "    <tr>\n",
       "      <th>754</th>\n",
       "      <td>84.180000</td>\n",
       "      <td>120.013382</td>\n",
       "      <td>291.119995</td>\n",
       "      <td>14.594640</td>\n",
       "      <td>121.820000</td>\n",
       "    </tr>\n",
       "    <tr>\n",
       "      <th>755</th>\n",
       "      <td>84.000000</td>\n",
       "      <td>120.093208</td>\n",
       "      <td>294.880005</td>\n",
       "      <td>14.605634</td>\n",
       "      <td>123.180000</td>\n",
       "    </tr>\n",
       "  </tbody>\n",
       "</table>\n",
       "<p>756 rows × 5 columns</p>\n",
       "</div>"
      ],
      "text/plain": [
       "          AMZN        META        NFLX       NVDA        TSLA\n",
       "0    94.900497  209.349792  329.809998   5.973633   28.684000\n",
       "1    93.748497  208.242081  325.899994   5.878020   29.534000\n",
       "2    95.143997  212.164032  335.829987   5.902669   30.102667\n",
       "3    95.343002  212.623077  330.750000   5.974132   31.270666\n",
       "4    94.598503  214.778656  339.260010   5.985336   32.809334\n",
       "..         ...         ...         ...        ...         ...\n",
       "751  85.250000  117.797935  294.959991  15.197295  123.150002\n",
       "752  83.040001  116.640312  284.170013  14.112917  109.099998\n",
       "753  81.820000  115.382896  276.880005  14.027965  112.709999\n",
       "754  84.180000  120.013382  291.119995  14.594640  121.820000\n",
       "755  84.000000  120.093208  294.880005  14.605634  123.180000\n",
       "\n",
       "[756 rows x 5 columns]"
      ]
     },
     "execution_count": 20,
     "metadata": {},
     "output_type": "execute_result"
    }
   ],
   "source": [
    "data"
   ]
  },
  {
   "cell_type": "code",
   "execution_count": 37,
   "id": "4e176d7a-ca6f-4800-91c5-8362cf8442ba",
   "metadata": {},
   "outputs": [],
   "source": [
    "returns = data.pct_change()\n",
    "covariance_matrix = returns.cov()"
   ]
  },
  {
   "cell_type": "code",
   "execution_count": 38,
   "id": "41a4b5a4-fab5-458b-b57a-5e64e5a65135",
   "metadata": {},
   "outputs": [
    {
     "data": {
      "text/html": [
       "<div>\n",
       "<style scoped>\n",
       "    .dataframe tbody tr th:only-of-type {\n",
       "        vertical-align: middle;\n",
       "    }\n",
       "\n",
       "    .dataframe tbody tr th {\n",
       "        vertical-align: top;\n",
       "    }\n",
       "\n",
       "    .dataframe thead th {\n",
       "        text-align: right;\n",
       "    }\n",
       "</style>\n",
       "<table border=\"1\" class=\"dataframe\">\n",
       "  <thead>\n",
       "    <tr style=\"text-align: right;\">\n",
       "      <th></th>\n",
       "      <th>AMZN</th>\n",
       "      <th>META</th>\n",
       "      <th>NFLX</th>\n",
       "      <th>NVDA</th>\n",
       "      <th>TSLA</th>\n",
       "    </tr>\n",
       "  </thead>\n",
       "  <tbody>\n",
       "    <tr>\n",
       "      <th>AMZN</th>\n",
       "      <td>0.000606</td>\n",
       "      <td>0.000468</td>\n",
       "      <td>0.000477</td>\n",
       "      <td>0.000576</td>\n",
       "      <td>0.000534</td>\n",
       "    </tr>\n",
       "    <tr>\n",
       "      <th>META</th>\n",
       "      <td>0.000468</td>\n",
       "      <td>0.000942</td>\n",
       "      <td>0.000553</td>\n",
       "      <td>0.000651</td>\n",
       "      <td>0.000516</td>\n",
       "    </tr>\n",
       "    <tr>\n",
       "      <th>NFLX</th>\n",
       "      <td>0.000477</td>\n",
       "      <td>0.000553</td>\n",
       "      <td>0.001067</td>\n",
       "      <td>0.000602</td>\n",
       "      <td>0.000607</td>\n",
       "    </tr>\n",
       "    <tr>\n",
       "      <th>NVDA</th>\n",
       "      <td>0.000576</td>\n",
       "      <td>0.000651</td>\n",
       "      <td>0.000602</td>\n",
       "      <td>0.001243</td>\n",
       "      <td>0.000880</td>\n",
       "    </tr>\n",
       "    <tr>\n",
       "      <th>TSLA</th>\n",
       "      <td>0.000534</td>\n",
       "      <td>0.000516</td>\n",
       "      <td>0.000607</td>\n",
       "      <td>0.000880</td>\n",
       "      <td>0.002068</td>\n",
       "    </tr>\n",
       "  </tbody>\n",
       "</table>\n",
       "</div>"
      ],
      "text/plain": [
       "          AMZN      META      NFLX      NVDA      TSLA\n",
       "AMZN  0.000606  0.000468  0.000477  0.000576  0.000534\n",
       "META  0.000468  0.000942  0.000553  0.000651  0.000516\n",
       "NFLX  0.000477  0.000553  0.001067  0.000602  0.000607\n",
       "NVDA  0.000576  0.000651  0.000602  0.001243  0.000880\n",
       "TSLA  0.000534  0.000516  0.000607  0.000880  0.002068"
      ]
     },
     "execution_count": 38,
     "metadata": {},
     "output_type": "execute_result"
    }
   ],
   "source": [
    "covariance_matrix"
   ]
  },
  {
   "cell_type": "code",
   "execution_count": 24,
   "id": "6ebafa99-25ca-4559-a42a-1360a7c4c507",
   "metadata": {},
   "outputs": [
    {
     "name": "stdin",
     "output_type": "stream",
     "text": [
      "Enter weight of AMZN:  0.1\n",
      "Enter weight of META:  0.3\n",
      "Enter weight of NFLX:  0.3\n",
      "Enter weight of NVDA:  0.2\n",
      "Enter weight of TSLA:  0.1\n"
     ]
    }
   ],
   "source": [
    "w = []\n",
    "for asset in data.columns:\n",
    "    w.append(float(input(f\"Enter weight of {asset}: \")))"
   ]
  },
  {
   "cell_type": "code",
   "execution_count": 25,
   "id": "478b60d3-6f9e-4b62-977e-d117aca667fe",
   "metadata": {},
   "outputs": [],
   "source": [
    "if sum(w)!=1:\n",
    "    print(\"Sum of weights is not equal to 1.\")\n",
    "    print(\"Please enter the weights again.\")"
   ]
  },
  {
   "cell_type": "code",
   "execution_count": 26,
   "id": "4080f205-c9c2-45f8-ab9c-2308f9805698",
   "metadata": {},
   "outputs": [],
   "source": [
    "weights = np.array(w)"
   ]
  },
  {
   "cell_type": "code",
   "execution_count": 31,
   "id": "dedfbac5-22f8-44ce-94c2-bf24fd5c1d86",
   "metadata": {},
   "outputs": [],
   "source": [
    "import scipy.stats as stats\n",
    "def z_score(level_of_confidence):\n",
    "    c = level_of_confidence\n",
    "    z_score = stats.norm.ppf((1 + c) / 2)\n",
    "    return z_score"
   ]
  },
  {
   "cell_type": "code",
   "execution_count": 32,
   "id": "73402a00-faa5-478a-b67e-712d157a5966",
   "metadata": {},
   "outputs": [],
   "source": [
    "one_sided_loc = 0.95\n",
    "loc = 2 * one_sided_loc - 1\n",
    "z = z_score(loc)"
   ]
  },
  {
   "cell_type": "code",
   "execution_count": 39,
   "id": "1a6815ba-ad39-4e6c-89c4-b9aa20648f5a",
   "metadata": {},
   "outputs": [],
   "source": [
    "volatility = np.sqrt(np.dot(weights.T, np.dot(covariance_matrix, weights)))\n",
    "VaR = z * volatility"
   ]
  },
  {
   "cell_type": "code",
   "execution_count": 42,
   "id": "c8545202-227d-4ad6-b666-d1c15f15a862",
   "metadata": {},
   "outputs": [
    {
     "name": "stdout",
     "output_type": "stream",
     "text": [
      "Value at Risk of the portfolio for the given weights is 4.35% of the portfolio value.\n"
     ]
    }
   ],
   "source": [
    "print(f\"Value at Risk of the portfolio for the given weights is {(VaR*100):.2f}% of the portfolio value.\")"
   ]
  }
 ],
 "metadata": {
  "kernelspec": {
   "display_name": "Python 3 (ipykernel)",
   "language": "python",
   "name": "python3"
  },
  "language_info": {
   "codemirror_mode": {
    "name": "ipython",
    "version": 3
   },
   "file_extension": ".py",
   "mimetype": "text/x-python",
   "name": "python",
   "nbconvert_exporter": "python",
   "pygments_lexer": "ipython3",
   "version": "3.12.2"
  }
 },
 "nbformat": 4,
 "nbformat_minor": 5
}
