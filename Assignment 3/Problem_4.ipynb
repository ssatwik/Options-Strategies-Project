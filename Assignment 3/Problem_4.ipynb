{
 "cells": [
  {
   "cell_type": "markdown",
   "id": "f61a0b77-84aa-433f-9120-8d4e3d99a948",
   "metadata": {},
   "source": [
    "# Problem-4"
   ]
  },
  {
   "cell_type": "code",
   "execution_count": 1,
   "id": "cff18c4b-93d5-4471-a381-1a8c669d4e57",
   "metadata": {},
   "outputs": [],
   "source": [
    "import pandas as pd\n",
    "import numpy as np\n",
    "import requests\n",
    "from bs4 import BeautifulSoup"
   ]
  },
  {
   "cell_type": "markdown",
   "id": "54b4739b-3ba5-4c5d-8b4a-6d80b60db0dc",
   "metadata": {},
   "source": [
    "### Historical data downloaded from https://finance.yahoo.com/quote/SBIN.NS/history/ (for the stock SBIN)"
   ]
  },
  {
   "cell_type": "code",
   "execution_count": 2,
   "id": "479db780-8a8c-4601-afcb-acf92a36507f",
   "metadata": {},
   "outputs": [],
   "source": [
    "stocks = ['SBIN','RELIANCE','HDFCBANK','TCS','BAJFINANCE','INFY','ICICIBANK','AXISBANK']\n",
    "\n",
    "# data downloaded from f\"https://finance.yahoo.com/quote/{stock}.NS/history/\""
   ]
  },
  {
   "cell_type": "markdown",
   "id": "3eb3c474-9b8c-4423-9062-88be4095e43e",
   "metadata": {},
   "source": [
    "### Calculating daily and annualized volatilities from historical data"
   ]
  },
  {
   "cell_type": "code",
   "execution_count": 3,
   "id": "bb9ec251-6ad2-4ba2-8d96-42e641b8cb8f",
   "metadata": {},
   "outputs": [],
   "source": [
    "def calculated_volatility(data):\n",
    "    \n",
    "    data['Daily Return'] = data['Adj Close'].pct_change()\n",
    "    \n",
    "    daily_volatility = data['Daily Return'].std()\n",
    "\n",
    "    daily_volatility *= 100\n",
    "    \n",
    "    return daily_volatility"
   ]
  },
  {
   "cell_type": "markdown",
   "id": "d60ddd4f-f874-470c-995b-0d22c91b086d",
   "metadata": {},
   "source": [
    "### Actual volatilities data obtained from https://www.nseindia.com/get-quotes/equity?symbol=SBIN (for SBIN)"
   ]
  },
  {
   "cell_type": "code",
   "execution_count": 4,
   "id": "7a3dd985-cba9-4712-90ac-f8146982e557",
   "metadata": {},
   "outputs": [],
   "source": [
    "actual_volatility = {'SBIN':1.48, 'RELIANCE':1.27, 'HDFCBANK':1.29, 'TCS':1.26, 'BAJFINANCE':1.66, 'INFY':1.45, 'ICICIBANK':1.20, 'AXISBANK':1.45}"
   ]
  },
  {
   "cell_type": "markdown",
   "id": "ff997dec-0289-4bbf-938f-070537838b2a",
   "metadata": {},
   "source": [
    "### Storing results in a dataframe"
   ]
  },
  {
   "cell_type": "code",
   "execution_count": 5,
   "id": "60796980-c524-45fb-924f-c39cc6fd942d",
   "metadata": {},
   "outputs": [
    {
     "name": "stdout",
     "output_type": "stream",
     "text": [
      "        Stock  Calculated Daily Return  Calculated Annualized Return  \\\n",
      "0        SBIN                 1.346000                     21.367080   \n",
      "1    RELIANCE                 1.167100                     18.527137   \n",
      "2    HDFCBANK                 1.187377                     18.849026   \n",
      "3         TCS                 1.242587                     19.725451   \n",
      "4  BAJFINANCE                 1.516615                     24.075525   \n",
      "5        INFY                 1.433787                     22.760662   \n",
      "6   ICICIBANK                 1.053796                     16.728493   \n",
      "7    AXISBANK                 1.324082                     21.019155   \n",
      "\n",
      "   Actual Daily Return  Actual Annualized Return  \n",
      "0                 1.48                 23.494272  \n",
      "1                 1.27                 20.160625  \n",
      "2                 1.29                 20.478115  \n",
      "3                 1.26                 20.001880  \n",
      "4                 1.66                 26.351683  \n",
      "5                 1.45                 23.018036  \n",
      "6                 1.20                 19.049409  \n",
      "7                 1.45                 23.018036  \n"
     ]
    }
   ],
   "source": [
    "volatilities_data = []\n",
    "\n",
    "for stock in stocks:\n",
    "\n",
    "    ticker = stock + '.NS'\n",
    "    \n",
    "    data = pd.read_csv(f'{ticker}.csv') \n",
    "\n",
    "    data['Daily Return'] = data['Adj Close'].pct_change(fill_method=None)\n",
    "    data = data.dropna(subset=['Daily Return'])\n",
    "    \n",
    "    daily_return_calculated = calculated_volatility(data)\n",
    "    annualized_return_calculated = daily_return_calculated * np.sqrt(252)\n",
    "\n",
    "    daily_return_actual = actual_volatility[stock]\n",
    "    annualized_return_actual = daily_return_actual * np.sqrt(252)\n",
    "    \n",
    "    volatilities_data.append({'Stock': stock, \n",
    "                         'Calculated Daily Return': daily_return_calculated,\n",
    "                         'Calculated Annualized Return': annualized_return_calculated,\n",
    "                         'Actual Daily Return': daily_return_actual,\n",
    "                         'Actual Annualized Return': annualized_return_actual})\n",
    "\n",
    "df = pd.DataFrame(volatilities_data)\n",
    "\n",
    "print(df)"
   ]
  }
 ],
 "metadata": {
  "kernelspec": {
   "display_name": "Python 3 (ipykernel)",
   "language": "python",
   "name": "python3"
  },
  "language_info": {
   "codemirror_mode": {
    "name": "ipython",
    "version": 3
   },
   "file_extension": ".py",
   "mimetype": "text/x-python",
   "name": "python",
   "nbconvert_exporter": "python",
   "pygments_lexer": "ipython3",
   "version": "3.12.2"
  }
 },
 "nbformat": 4,
 "nbformat_minor": 5
}
