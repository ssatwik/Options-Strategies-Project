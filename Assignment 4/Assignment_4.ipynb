{
 "cells": [
  {
   "cell_type": "markdown",
   "id": "003d17b0-7373-4a7d-b5cc-c9af690a234d",
   "metadata": {},
   "source": [
    "# Assignment-4"
   ]
  },
  {
   "cell_type": "markdown",
   "id": "e097f4e4-6099-4887-a854-311c798dead9",
   "metadata": {},
   "source": [
    "# Task-1"
   ]
  },
  {
   "cell_type": "code",
   "execution_count": 1,
   "id": "04c645ac-4df2-44ec-a161-8d66cfd8a956",
   "metadata": {},
   "outputs": [],
   "source": [
    "import yfinance as yf\n",
    "import pandas as pd\n",
    "import matplotlib.pyplot as plt"
   ]
  },
  {
   "cell_type": "markdown",
   "id": "731e93a6-637e-4c4d-bf4f-cf1e7749b176",
   "metadata": {},
   "source": [
    "### Extracting Option Chain Data"
   ]
  },
  {
   "cell_type": "code",
   "execution_count": 2,
   "id": "badc5b96-b6d3-46c8-b5c2-f0b3bfe928d8",
   "metadata": {},
   "outputs": [],
   "source": [
    "symbol = \"^NIFTY\"\n",
    "stock = yf.Ticker(symbol)\n",
    "options = stock.options"
   ]
  },
  {
   "cell_type": "code",
   "execution_count": 3,
   "id": "00aa68ad-7a46-4f6d-94e5-5d9d06a8c242",
   "metadata": {},
   "outputs": [
    {
     "data": {
      "text/plain": [
       "()"
      ]
     },
     "execution_count": 3,
     "metadata": {},
     "output_type": "execute_result"
    }
   ],
   "source": [
    "options"
   ]
  },
  {
   "cell_type": "code",
   "execution_count": 145,
   "id": "a8cd6d58-2fd9-4004-af7c-a9a427b36ca6",
   "metadata": {},
   "outputs": [],
   "source": [
    "expiry = options[5]"
   ]
  },
  {
   "cell_type": "code",
   "execution_count": 146,
   "id": "fc9edca6-2155-4023-bfac-dba011eee244",
   "metadata": {},
   "outputs": [],
   "source": [
    "opt_chain = stock.option_chain(expiry)\n",
    "call_options = opt_chain.calls\n",
    "put_options = opt_chain.puts"
   ]
  },
  {
   "cell_type": "code",
   "execution_count": 147,
   "id": "779c26d4-fc20-49fa-8ec6-9e8adf494f87",
   "metadata": {},
   "outputs": [
    {
     "data": {
      "text/plain": [
       "False"
      ]
     },
     "execution_count": 147,
     "metadata": {},
     "output_type": "execute_result"
    }
   ],
   "source": [
    "(call_options.strike.value_counts()>1).any()"
   ]
  },
  {
   "cell_type": "code",
   "execution_count": 148,
   "id": "b9e012b4-c6c2-49cd-996a-ff95413c1750",
   "metadata": {},
   "outputs": [
    {
     "data": {
      "text/plain": [
       "False"
      ]
     },
     "execution_count": 148,
     "metadata": {},
     "output_type": "execute_result"
    }
   ],
   "source": [
    "(put_options.strike.value_counts()>1).any()"
   ]
  },
  {
   "cell_type": "code",
   "execution_count": 149,
   "id": "fd4ca86c-3b6c-4459-845a-34b2e7f7159e",
   "metadata": {},
   "outputs": [],
   "source": [
    "call_options = call_options[['contractSymbol','lastTradeDate','strike','lastPrice','openInterest']]\n",
    "put_options = put_options[['contractSymbol','lastTradeDate','strike','lastPrice','openInterest']]"
   ]
  },
  {
   "cell_type": "code",
   "execution_count": 150,
   "id": "3e4ff810-15de-41f5-84ba-458c017f51dd",
   "metadata": {},
   "outputs": [
    {
     "data": {
      "text/html": [
       "<div>\n",
       "<style scoped>\n",
       "    .dataframe tbody tr th:only-of-type {\n",
       "        vertical-align: middle;\n",
       "    }\n",
       "\n",
       "    .dataframe tbody tr th {\n",
       "        vertical-align: top;\n",
       "    }\n",
       "\n",
       "    .dataframe thead th {\n",
       "        text-align: right;\n",
       "    }\n",
       "</style>\n",
       "<table border=\"1\" class=\"dataframe\">\n",
       "  <thead>\n",
       "    <tr style=\"text-align: right;\">\n",
       "      <th></th>\n",
       "      <th>contractSymbol</th>\n",
       "      <th>lastTradeDate</th>\n",
       "      <th>strike</th>\n",
       "      <th>lastPrice</th>\n",
       "      <th>openInterest</th>\n",
       "    </tr>\n",
       "  </thead>\n",
       "  <tbody>\n",
       "    <tr>\n",
       "      <th>0</th>\n",
       "      <td>SPXW240626C04000000</td>\n",
       "      <td>2024-06-13 14:37:10+00:00</td>\n",
       "      <td>4000.0</td>\n",
       "      <td>1419.58</td>\n",
       "      <td>1</td>\n",
       "    </tr>\n",
       "    <tr>\n",
       "      <th>1</th>\n",
       "      <td>SPXW240626C04550000</td>\n",
       "      <td>2024-06-07 19:12:34+00:00</td>\n",
       "      <td>4550.0</td>\n",
       "      <td>814.54</td>\n",
       "      <td>1</td>\n",
       "    </tr>\n",
       "    <tr>\n",
       "      <th>2</th>\n",
       "      <td>SPXW240626C04650000</td>\n",
       "      <td>2024-05-23 17:16:16+00:00</td>\n",
       "      <td>4650.0</td>\n",
       "      <td>674.87</td>\n",
       "      <td>1</td>\n",
       "    </tr>\n",
       "    <tr>\n",
       "      <th>3</th>\n",
       "      <td>SPXW240626C04700000</td>\n",
       "      <td>2024-05-23 17:16:15+00:00</td>\n",
       "      <td>4700.0</td>\n",
       "      <td>625.41</td>\n",
       "      <td>1</td>\n",
       "    </tr>\n",
       "    <tr>\n",
       "      <th>4</th>\n",
       "      <td>SPXW240626C04800000</td>\n",
       "      <td>2024-05-17 17:35:35+00:00</td>\n",
       "      <td>4800.0</td>\n",
       "      <td>524.10</td>\n",
       "      <td>5</td>\n",
       "    </tr>\n",
       "    <tr>\n",
       "      <th>...</th>\n",
       "      <td>...</td>\n",
       "      <td>...</td>\n",
       "      <td>...</td>\n",
       "      <td>...</td>\n",
       "      <td>...</td>\n",
       "    </tr>\n",
       "    <tr>\n",
       "      <th>106</th>\n",
       "      <td>SPXW240626C05800000</td>\n",
       "      <td>2024-06-12 18:33:33+00:00</td>\n",
       "      <td>5800.0</td>\n",
       "      <td>0.35</td>\n",
       "      <td>2</td>\n",
       "    </tr>\n",
       "    <tr>\n",
       "      <th>107</th>\n",
       "      <td>SPXW240626C05900000</td>\n",
       "      <td>2024-06-14 19:48:52+00:00</td>\n",
       "      <td>5900.0</td>\n",
       "      <td>0.20</td>\n",
       "      <td>140</td>\n",
       "    </tr>\n",
       "    <tr>\n",
       "      <th>108</th>\n",
       "      <td>SPXW240626C06000000</td>\n",
       "      <td>2024-06-13 14:04:29+00:00</td>\n",
       "      <td>6000.0</td>\n",
       "      <td>0.15</td>\n",
       "      <td>26</td>\n",
       "    </tr>\n",
       "    <tr>\n",
       "      <th>109</th>\n",
       "      <td>SPXW240626C06200000</td>\n",
       "      <td>2024-05-21 15:14:30+00:00</td>\n",
       "      <td>6200.0</td>\n",
       "      <td>0.09</td>\n",
       "      <td>1</td>\n",
       "    </tr>\n",
       "    <tr>\n",
       "      <th>110</th>\n",
       "      <td>SPXW240626C06400000</td>\n",
       "      <td>2024-06-14 20:02:46+00:00</td>\n",
       "      <td>6400.0</td>\n",
       "      <td>0.10</td>\n",
       "      <td>10</td>\n",
       "    </tr>\n",
       "  </tbody>\n",
       "</table>\n",
       "<p>111 rows × 5 columns</p>\n",
       "</div>"
      ],
      "text/plain": [
       "          contractSymbol             lastTradeDate  strike  lastPrice  \\\n",
       "0    SPXW240626C04000000 2024-06-13 14:37:10+00:00  4000.0    1419.58   \n",
       "1    SPXW240626C04550000 2024-06-07 19:12:34+00:00  4550.0     814.54   \n",
       "2    SPXW240626C04650000 2024-05-23 17:16:16+00:00  4650.0     674.87   \n",
       "3    SPXW240626C04700000 2024-05-23 17:16:15+00:00  4700.0     625.41   \n",
       "4    SPXW240626C04800000 2024-05-17 17:35:35+00:00  4800.0     524.10   \n",
       "..                   ...                       ...     ...        ...   \n",
       "106  SPXW240626C05800000 2024-06-12 18:33:33+00:00  5800.0       0.35   \n",
       "107  SPXW240626C05900000 2024-06-14 19:48:52+00:00  5900.0       0.20   \n",
       "108  SPXW240626C06000000 2024-06-13 14:04:29+00:00  6000.0       0.15   \n",
       "109  SPXW240626C06200000 2024-05-21 15:14:30+00:00  6200.0       0.09   \n",
       "110  SPXW240626C06400000 2024-06-14 20:02:46+00:00  6400.0       0.10   \n",
       "\n",
       "     openInterest  \n",
       "0               1  \n",
       "1               1  \n",
       "2               1  \n",
       "3               1  \n",
       "4               5  \n",
       "..            ...  \n",
       "106             2  \n",
       "107           140  \n",
       "108            26  \n",
       "109             1  \n",
       "110            10  \n",
       "\n",
       "[111 rows x 5 columns]"
      ]
     },
     "execution_count": 150,
     "metadata": {},
     "output_type": "execute_result"
    }
   ],
   "source": [
    "call_options"
   ]
  },
  {
   "cell_type": "code",
   "execution_count": 151,
   "id": "5f8601ac-1462-433c-8883-4e03fc3679b8",
   "metadata": {},
   "outputs": [
    {
     "data": {
      "text/html": [
       "<div>\n",
       "<style scoped>\n",
       "    .dataframe tbody tr th:only-of-type {\n",
       "        vertical-align: middle;\n",
       "    }\n",
       "\n",
       "    .dataframe tbody tr th {\n",
       "        vertical-align: top;\n",
       "    }\n",
       "\n",
       "    .dataframe thead th {\n",
       "        text-align: right;\n",
       "    }\n",
       "</style>\n",
       "<table border=\"1\" class=\"dataframe\">\n",
       "  <thead>\n",
       "    <tr style=\"text-align: right;\">\n",
       "      <th></th>\n",
       "      <th>contractSymbol</th>\n",
       "      <th>lastTradeDate</th>\n",
       "      <th>strike</th>\n",
       "      <th>lastPrice</th>\n",
       "      <th>openInterest</th>\n",
       "    </tr>\n",
       "  </thead>\n",
       "  <tbody>\n",
       "    <tr>\n",
       "      <th>0</th>\n",
       "      <td>SPXW240626P02400000</td>\n",
       "      <td>2024-05-24 13:38:56+00:00</td>\n",
       "      <td>2400.0</td>\n",
       "      <td>0.10</td>\n",
       "      <td>2</td>\n",
       "    </tr>\n",
       "    <tr>\n",
       "      <th>1</th>\n",
       "      <td>SPXW240626P02600000</td>\n",
       "      <td>2024-05-23 16:47:45+00:00</td>\n",
       "      <td>2600.0</td>\n",
       "      <td>0.10</td>\n",
       "      <td>4</td>\n",
       "    </tr>\n",
       "    <tr>\n",
       "      <th>2</th>\n",
       "      <td>SPXW240626P02800000</td>\n",
       "      <td>2024-06-05 15:01:03+00:00</td>\n",
       "      <td>2800.0</td>\n",
       "      <td>0.05</td>\n",
       "      <td>1</td>\n",
       "    </tr>\n",
       "    <tr>\n",
       "      <th>3</th>\n",
       "      <td>SPXW240626P03000000</td>\n",
       "      <td>2024-05-24 19:34:16+00:00</td>\n",
       "      <td>3000.0</td>\n",
       "      <td>0.17</td>\n",
       "      <td>1</td>\n",
       "    </tr>\n",
       "    <tr>\n",
       "      <th>4</th>\n",
       "      <td>SPXW240626P03400000</td>\n",
       "      <td>2024-06-17 18:09:03+00:00</td>\n",
       "      <td>3400.0</td>\n",
       "      <td>0.05</td>\n",
       "      <td>6</td>\n",
       "    </tr>\n",
       "    <tr>\n",
       "      <th>...</th>\n",
       "      <td>...</td>\n",
       "      <td>...</td>\n",
       "      <td>...</td>\n",
       "      <td>...</td>\n",
       "      <td>...</td>\n",
       "    </tr>\n",
       "    <tr>\n",
       "      <th>126</th>\n",
       "      <td>SPXW240626P05510000</td>\n",
       "      <td>2024-06-18 14:28:55+00:00</td>\n",
       "      <td>5510.0</td>\n",
       "      <td>43.60</td>\n",
       "      <td>6</td>\n",
       "    </tr>\n",
       "    <tr>\n",
       "      <th>127</th>\n",
       "      <td>SPXW240626P05520000</td>\n",
       "      <td>2024-06-18 14:28:55+00:00</td>\n",
       "      <td>5520.0</td>\n",
       "      <td>49.90</td>\n",
       "      <td>4</td>\n",
       "    </tr>\n",
       "    <tr>\n",
       "      <th>128</th>\n",
       "      <td>SPXW240626P05525000</td>\n",
       "      <td>2024-06-12 19:54:28+00:00</td>\n",
       "      <td>5525.0</td>\n",
       "      <td>98.33</td>\n",
       "      <td>2</td>\n",
       "    </tr>\n",
       "    <tr>\n",
       "      <th>129</th>\n",
       "      <td>SPXW240626P05530000</td>\n",
       "      <td>2024-06-18 14:25:52+00:00</td>\n",
       "      <td>5530.0</td>\n",
       "      <td>58.90</td>\n",
       "      <td>1</td>\n",
       "    </tr>\n",
       "    <tr>\n",
       "      <th>130</th>\n",
       "      <td>SPXW240626P05550000</td>\n",
       "      <td>2024-06-18 16:31:51+00:00</td>\n",
       "      <td>5550.0</td>\n",
       "      <td>73.28</td>\n",
       "      <td>53</td>\n",
       "    </tr>\n",
       "  </tbody>\n",
       "</table>\n",
       "<p>131 rows × 5 columns</p>\n",
       "</div>"
      ],
      "text/plain": [
       "          contractSymbol             lastTradeDate  strike  lastPrice  \\\n",
       "0    SPXW240626P02400000 2024-05-24 13:38:56+00:00  2400.0       0.10   \n",
       "1    SPXW240626P02600000 2024-05-23 16:47:45+00:00  2600.0       0.10   \n",
       "2    SPXW240626P02800000 2024-06-05 15:01:03+00:00  2800.0       0.05   \n",
       "3    SPXW240626P03000000 2024-05-24 19:34:16+00:00  3000.0       0.17   \n",
       "4    SPXW240626P03400000 2024-06-17 18:09:03+00:00  3400.0       0.05   \n",
       "..                   ...                       ...     ...        ...   \n",
       "126  SPXW240626P05510000 2024-06-18 14:28:55+00:00  5510.0      43.60   \n",
       "127  SPXW240626P05520000 2024-06-18 14:28:55+00:00  5520.0      49.90   \n",
       "128  SPXW240626P05525000 2024-06-12 19:54:28+00:00  5525.0      98.33   \n",
       "129  SPXW240626P05530000 2024-06-18 14:25:52+00:00  5530.0      58.90   \n",
       "130  SPXW240626P05550000 2024-06-18 16:31:51+00:00  5550.0      73.28   \n",
       "\n",
       "     openInterest  \n",
       "0               2  \n",
       "1               4  \n",
       "2               1  \n",
       "3               1  \n",
       "4               6  \n",
       "..            ...  \n",
       "126             6  \n",
       "127             4  \n",
       "128             2  \n",
       "129             1  \n",
       "130            53  \n",
       "\n",
       "[131 rows x 5 columns]"
      ]
     },
     "execution_count": 151,
     "metadata": {},
     "output_type": "execute_result"
    }
   ],
   "source": [
    "put_options"
   ]
  },
  {
   "cell_type": "markdown",
   "id": "bb690c28-282a-407c-9157-81353fd07a39",
   "metadata": {},
   "source": [
    "### Calculating Pain for each Strike Price"
   ]
  },
  {
   "cell_type": "code",
   "execution_count": 152,
   "id": "16274a91-5f4d-4c9e-9b81-7685f56d682b",
   "metadata": {},
   "outputs": [],
   "source": [
    "strikes = set()\n",
    "for strike in call_options.strike: strikes.add(strike)\n",
    "for strike in put_options.strike: strikes.add(strike)    "
   ]
  },
  {
   "cell_type": "code",
   "execution_count": 153,
   "id": "48a86dbc-d11e-414a-9e92-2fa3a0dd8058",
   "metadata": {},
   "outputs": [],
   "source": [
    "# strikes"
   ]
  },
  {
   "cell_type": "code",
   "execution_count": 154,
   "id": "b86e5089-e657-4dcf-af21-00aaa7f88625",
   "metadata": {},
   "outputs": [],
   "source": [
    "pain = {}\n",
    "for strike in strikes:\n",
    "    num = 0\n",
    "    for index,row in call_options.iterrows():\n",
    "        if strike>row['strike']: num += row['openInterest'] * (strike - row['strike'])\n",
    "    for index,row in put_options.iterrows():\n",
    "        if strike<row['strike']: num += row['openInterest'] * (row['strike'] - strike)\n",
    "    pain[strike] = num"
   ]
  },
  {
   "cell_type": "code",
   "execution_count": 155,
   "id": "a7338ae2-7799-42dc-95cf-3e4d467d8578",
   "metadata": {},
   "outputs": [],
   "source": [
    "pain = dict(sorted(pain.items()))"
   ]
  },
  {
   "cell_type": "code",
   "execution_count": 156,
   "id": "aa2b5448-5c4b-488d-a06e-162736a1f63a",
   "metadata": {},
   "outputs": [
    {
     "data": {
      "text/plain": [
       "{2400.0: 146460910.0,\n",
       " 2600.0: 134464910.0,\n",
       " 2800.0: 122469710.0,\n",
       " 3000.0: 110474710.0,\n",
       " 3400.0: 86485110.0,\n",
       " 3600.0: 74491510.0,\n",
       " 3800.0: 62527710.0,\n",
       " 3900.0: 56554510.0,\n",
       " 4000.0: 50581410.0,\n",
       " 4100.0: 44618110.0,\n",
       " 4200.0: 38703910.0,\n",
       " 4250.0: 35761410.0,\n",
       " 4300.0: 32858710.0,\n",
       " 4350.0: 30283510.0,\n",
       " 4400.0: 27717010.0,\n",
       " 4450.0: 25604860.0,\n",
       " 4500.0: 23501760.0,\n",
       " 4550.0: 21652460.0,\n",
       " 4600.0: 20116660.0,\n",
       " 4650.0: 18589110.0,\n",
       " 4700.0: 17069510.0,\n",
       " 4750.0: 15555460.0,\n",
       " 4800.0: 14049110.0,\n",
       " 4825.0: 13308535.0,\n",
       " 4850.0: 12571710.0,\n",
       " 4875.0: 11840135.0,\n",
       " 4900.0: 11109410.0,\n",
       " 4925.0: 10394960.0,\n",
       " 4950.0: 9681910.0,\n",
       " 4975.0: 8971585.0,\n",
       " 4980.0: 8830585.0,\n",
       " 4990.0: 8549125.0,\n",
       " 5000.0: 8269035.0,\n",
       " 5010.0: 7992335.0,\n",
       " 5020.0: 7716275.0,\n",
       " 5025.0: 7578365.0,\n",
       " 5030.0: 7440830.0,\n",
       " 5040.0: 7166860.0,\n",
       " 5050.0: 6893120.0,\n",
       " 5060.0: 6622420.0,\n",
       " 5070.0: 6353490.0,\n",
       " 5075.0: 6219210.0,\n",
       " 5080.0: 6085370.0,\n",
       " 5085.0: 5951705.0,\n",
       " 5090.0: 5818175.0,\n",
       " 5095.0: 5684755.0,\n",
       " 5100.0: 5551405.0,\n",
       " 5105.0: 5418625.0,\n",
       " 5110.0: 5285900.0,\n",
       " 5115.0: 5153390.0,\n",
       " 5120.0: 5021200.0,\n",
       " 5125.0: 4893435.0,\n",
       " 5130.0: 4766685.0,\n",
       " 5135.0: 4640365.0,\n",
       " 5140.0: 4514430.0,\n",
       " 5145.0: 4388695.0,\n",
       " 5150.0: 4263370.0,\n",
       " 5155.0: 4141120.0,\n",
       " 5160.0: 4019185.0,\n",
       " 5165.0: 3898490.0,\n",
       " 5170.0: 3777910.0,\n",
       " 5175.0: 3657740.0,\n",
       " 5180.0: 3541935.0,\n",
       " 5185.0: 3426850.0,\n",
       " 5190.0: 3311885.0,\n",
       " 5195.0: 3197540.0,\n",
       " 5200.0: 3084040.0,\n",
       " 5205.0: 2974070.0,\n",
       " 5210.0: 2864420.0,\n",
       " 5215.0: 2755865.0,\n",
       " 5220.0: 2647650.0,\n",
       " 5225.0: 2540360.0,\n",
       " 5230.0: 2434305.0,\n",
       " 5235.0: 2328930.0,\n",
       " 5240.0: 2223900.0,\n",
       " 5245.0: 2123525.0,\n",
       " 5250.0: 2023745.0,\n",
       " 5255.0: 1932800.0,\n",
       " 5260.0: 1842260.0,\n",
       " 5265.0: 1755525.0,\n",
       " 5270.0: 1669365.0,\n",
       " 5275.0: 1583500.0,\n",
       " 5280.0: 1499375.0,\n",
       " 5285.0: 1416040.0,\n",
       " 5290.0: 1335395.0,\n",
       " 5295.0: 1254965.0,\n",
       " 5300.0: 1175145.0,\n",
       " 5305.0: 1132090.0,\n",
       " 5310.0: 1089720.0,\n",
       " 5315.0: 1048380.0,\n",
       " 5320.0: 1007430.0,\n",
       " 5325.0: 967760.0,\n",
       " 5330.0: 929310.0,\n",
       " 5335.0: 891610.0,\n",
       " 5340.0: 854415.0,\n",
       " 5345.0: 820555.0,\n",
       " 5350.0: 789075.0,\n",
       " 5355.0: 785355.0,\n",
       " 5360.0: 781970.0,\n",
       " 5365.0: 779660.0,\n",
       " 5370.0: 777915.0,\n",
       " 5375.0: 777915.0,\n",
       " 5380.0: 787745.0,\n",
       " 5385.0: 799030.0,\n",
       " 5390.0: 810630.0,\n",
       " 5395.0: 823075.0,\n",
       " 5400.0: 836255.0,\n",
       " 5405.0: 869250.0,\n",
       " 5410.0: 910715.0,\n",
       " 5415.0: 965745.0,\n",
       " 5420.0: 1021815.0,\n",
       " 5425.0: 1086365.0,\n",
       " 5430.0: 1161190.0,\n",
       " 5435.0: 1238525.0,\n",
       " 5440.0: 1317445.0,\n",
       " 5445.0: 1397420.0,\n",
       " 5450.0: 1478595.0,\n",
       " 5455.0: 1566940.0,\n",
       " 5460.0: 1656570.0,\n",
       " 5465.0: 1746690.0,\n",
       " 5470.0: 1837410.0,\n",
       " 5475.0: 1929580.0,\n",
       " 5480.0: 2022095.0,\n",
       " 5485.0: 2115675.0,\n",
       " 5490.0: 2209990.0,\n",
       " 5495.0: 2304880.0,\n",
       " 5500.0: 2399835.0,\n",
       " 5505.0: 2502690.0,\n",
       " 5510.0: 2605905.0,\n",
       " 5515.0: 2710570.0,\n",
       " 5520.0: 2815455.0,\n",
       " 5525.0: 2935330.0,\n",
       " 5530.0: 3056045.0,\n",
       " 5535.0: 3178645.0,\n",
       " 5540.0: 3301415.0,\n",
       " 5545.0: 3424595.0,\n",
       " 5550.0: 3547835.0,\n",
       " 5555.0: 3673950.0,\n",
       " 5560.0: 3800440.0,\n",
       " 5565.0: 3927215.0,\n",
       " 5570.0: 4054150.0,\n",
       " 5575.0: 4181810.0,\n",
       " 5580.0: 4314865.0,\n",
       " 5590.0: 4581775.0,\n",
       " 5600.0: 4849395.0,\n",
       " 5610.0: 5140665.0,\n",
       " 5625.0: 5578050.0,\n",
       " 5650.0: 6318750.0,\n",
       " 5700.0: 7837700.0,\n",
       " 5800.0: 10876600.0,\n",
       " 5900.0: 13915700.0,\n",
       " 6000.0: 16968800.0,\n",
       " 6200.0: 23080200.0,\n",
       " 6400.0: 29191800.0}"
      ]
     },
     "execution_count": 156,
     "metadata": {},
     "output_type": "execute_result"
    }
   ],
   "source": [
    "pain"
   ]
  },
  {
   "cell_type": "code",
   "execution_count": 157,
   "id": "c71efae3-91cb-422e-8af5-01ae3c03c718",
   "metadata": {},
   "outputs": [],
   "source": [
    "max_pain_strike = min(pain, key=pain.get)"
   ]
  },
  {
   "cell_type": "code",
   "execution_count": 158,
   "id": "098c58de-eb14-4700-94d7-0d7f63ba903b",
   "metadata": {},
   "outputs": [
    {
     "data": {
      "text/plain": [
       "5370.0"
      ]
     },
     "execution_count": 158,
     "metadata": {},
     "output_type": "execute_result"
    }
   ],
   "source": [
    "max_pain_strike"
   ]
  },
  {
   "cell_type": "markdown",
   "id": "85a0ffbb-8f1c-4990-a74e-65db05b30912",
   "metadata": {},
   "source": [
    "### Strategy: Sell Call Option with Strike Price 5% above Max Pain and Put Option with Strike Price 5% below Max Pain"
   ]
  },
  {
   "cell_type": "code",
   "execution_count": 159,
   "id": "f3cae534-622c-47d6-b85e-27b79eee1fbb",
   "metadata": {},
   "outputs": [],
   "source": [
    "call_price = max_pain_strike * (1.05)\n",
    "put_price = max_pain_strike * (0.95)"
   ]
  },
  {
   "cell_type": "code",
   "execution_count": 160,
   "id": "34e911a9-24d9-4549-b354-d41d540acf3d",
   "metadata": {},
   "outputs": [
    {
     "name": "stdout",
     "output_type": "stream",
     "text": [
      "5638.5 5101.5\n"
     ]
    }
   ],
   "source": [
    "print(call_price, put_price)"
   ]
  },
  {
   "cell_type": "code",
   "execution_count": 161,
   "id": "f9baf090-f75b-4882-979a-5fa9053bc520",
   "metadata": {},
   "outputs": [],
   "source": [
    "call_contractSymbol = \"\"\n",
    "call_strike,call_premium=0,0\n",
    "for index,row in call_options.iterrows():\n",
    "    if row['strike']>call_price:\n",
    "        call_contractSymbol = row['contractSymbol']\n",
    "        call_strike = row['strike']\n",
    "        call_premium = row['lastPrice']\n",
    "        break"
   ]
  },
  {
   "cell_type": "code",
   "execution_count": 162,
   "id": "402c00df-00b8-4835-8196-a1e61e598ad3",
   "metadata": {},
   "outputs": [],
   "source": [
    "put_contractSymbol = \"\"\n",
    "put_strike,put_premium=0,0\n",
    "for index,row in put_options.iterrows():\n",
    "    if put_options.loc[index+1,'strike']>put_price:\n",
    "        put_contractSymbol = row['contractSymbol']\n",
    "        put_strike = row['strike']\n",
    "        put_premium = row['lastPrice']\n",
    "        break"
   ]
  },
  {
   "cell_type": "code",
   "execution_count": 163,
   "id": "dbfffa00-7f84-474f-a635-c8788cfa0df2",
   "metadata": {},
   "outputs": [
    {
     "name": "stdout",
     "output_type": "stream",
     "text": [
      "Call Option:\n",
      "Contract Symbol: SPXW240626C05650000\n",
      "Strike Price: 5650.0\n",
      "Premium: 0.63\n",
      "\n",
      "Put Option:\n",
      "Contract Symbol: SPXW240626P05100000\n",
      "Strike Price: 5100.0\n",
      "Premium: 0.78\n"
     ]
    }
   ],
   "source": [
    "print(\"Call Option:\")\n",
    "print(f\"Contract Symbol: {call_contractSymbol}\")\n",
    "print(f\"Strike Price: {call_strike}\")\n",
    "print(f\"Premium: {call_premium}\")\n",
    "print()\n",
    "print(\"Put Option:\")\n",
    "print(f\"Contract Symbol: {put_contractSymbol}\")\n",
    "print(f\"Strike Price: {put_strike}\")\n",
    "print(f\"Premium: {put_premium}\")"
   ]
  },
  {
   "cell_type": "markdown",
   "id": "14cd80b7-c164-46e6-b5b1-205e41d48b1a",
   "metadata": {},
   "source": [
    "# Task-2"
   ]
  },
  {
   "cell_type": "code",
   "execution_count": 164,
   "id": "43c17f49-28a8-4368-a414-801e05b14361",
   "metadata": {},
   "outputs": [],
   "source": [
    "import yfinance as yf\n",
    "import pandas as pd\n",
    "import matplotlib.pyplot as plt\n",
    "import seaborn as sns\n",
    "import numpy as np"
   ]
  },
  {
   "cell_type": "markdown",
   "id": "8d878427-f880-4695-afbf-07280feef795",
   "metadata": {},
   "source": [
    "### Importing Indices' Historical Data"
   ]
  },
  {
   "cell_type": "code",
   "execution_count": 165,
   "id": "c52cdd72-3693-4ac5-a05b-6587db37055f",
   "metadata": {},
   "outputs": [],
   "source": [
    "symbol1 = \"^NSEI\"\n",
    "symbol2 = \"^BSESN\"\n",
    "stock1 = yf.Ticker(symbol1)\n",
    "stock2 = yf.Ticker(symbol2)\n",
    "start = \"2023-01-01\"\n",
    "end = \"2024-06-17\"\n",
    "nifty_data = stock1.history(start=start, end=end)\n",
    "sensex_data = stock2.history(start=start, end=end)"
   ]
  },
  {
   "cell_type": "code",
   "execution_count": 166,
   "id": "7fd49f24-381e-4632-a6be-0852c6463b9b",
   "metadata": {},
   "outputs": [],
   "source": [
    "nifty_data.reset_index(inplace=True)\n",
    "sensex_data.reset_index(inplace=True)"
   ]
  },
  {
   "cell_type": "code",
   "execution_count": 167,
   "id": "c0297ddb-dc0a-4e72-9710-1ed05979abb0",
   "metadata": {},
   "outputs": [
    {
     "data": {
      "text/plain": [
       "Index(['Date', 'Open', 'High', 'Low', 'Close', 'Volume', 'Dividends',\n",
       "       'Stock Splits'],\n",
       "      dtype='object')"
      ]
     },
     "execution_count": 167,
     "metadata": {},
     "output_type": "execute_result"
    }
   ],
   "source": [
    "nifty_data.columns"
   ]
  },
  {
   "cell_type": "code",
   "execution_count": 168,
   "id": "849c9e9a-4855-4b09-b24e-001bc8f0af9f",
   "metadata": {},
   "outputs": [
    {
     "data": {
      "text/html": [
       "<div>\n",
       "<style scoped>\n",
       "    .dataframe tbody tr th:only-of-type {\n",
       "        vertical-align: middle;\n",
       "    }\n",
       "\n",
       "    .dataframe tbody tr th {\n",
       "        vertical-align: top;\n",
       "    }\n",
       "\n",
       "    .dataframe thead th {\n",
       "        text-align: right;\n",
       "    }\n",
       "</style>\n",
       "<table border=\"1\" class=\"dataframe\">\n",
       "  <thead>\n",
       "    <tr style=\"text-align: right;\">\n",
       "      <th></th>\n",
       "      <th>Date</th>\n",
       "      <th>Open</th>\n",
       "      <th>High</th>\n",
       "      <th>Low</th>\n",
       "      <th>Close</th>\n",
       "      <th>Volume</th>\n",
       "      <th>Dividends</th>\n",
       "      <th>Stock Splits</th>\n",
       "    </tr>\n",
       "  </thead>\n",
       "  <tbody>\n",
       "    <tr>\n",
       "      <th>0</th>\n",
       "      <td>2023-01-02 00:00:00+05:30</td>\n",
       "      <td>18131.699219</td>\n",
       "      <td>18215.150391</td>\n",
       "      <td>18086.500000</td>\n",
       "      <td>18197.449219</td>\n",
       "      <td>256100</td>\n",
       "      <td>0.0</td>\n",
       "      <td>0.0</td>\n",
       "    </tr>\n",
       "    <tr>\n",
       "      <th>1</th>\n",
       "      <td>2023-01-03 00:00:00+05:30</td>\n",
       "      <td>18163.199219</td>\n",
       "      <td>18251.949219</td>\n",
       "      <td>18149.800781</td>\n",
       "      <td>18232.550781</td>\n",
       "      <td>208700</td>\n",
       "      <td>0.0</td>\n",
       "      <td>0.0</td>\n",
       "    </tr>\n",
       "    <tr>\n",
       "      <th>2</th>\n",
       "      <td>2023-01-04 00:00:00+05:30</td>\n",
       "      <td>18230.650391</td>\n",
       "      <td>18243.000000</td>\n",
       "      <td>18020.599609</td>\n",
       "      <td>18042.949219</td>\n",
       "      <td>235200</td>\n",
       "      <td>0.0</td>\n",
       "      <td>0.0</td>\n",
       "    </tr>\n",
       "    <tr>\n",
       "      <th>3</th>\n",
       "      <td>2023-01-05 00:00:00+05:30</td>\n",
       "      <td>18101.949219</td>\n",
       "      <td>18120.300781</td>\n",
       "      <td>17892.599609</td>\n",
       "      <td>17992.150391</td>\n",
       "      <td>269900</td>\n",
       "      <td>0.0</td>\n",
       "      <td>0.0</td>\n",
       "    </tr>\n",
       "    <tr>\n",
       "      <th>4</th>\n",
       "      <td>2023-01-06 00:00:00+05:30</td>\n",
       "      <td>18008.050781</td>\n",
       "      <td>18047.400391</td>\n",
       "      <td>17795.550781</td>\n",
       "      <td>17859.449219</td>\n",
       "      <td>238200</td>\n",
       "      <td>0.0</td>\n",
       "      <td>0.0</td>\n",
       "    </tr>\n",
       "    <tr>\n",
       "      <th>...</th>\n",
       "      <td>...</td>\n",
       "      <td>...</td>\n",
       "      <td>...</td>\n",
       "      <td>...</td>\n",
       "      <td>...</td>\n",
       "      <td>...</td>\n",
       "      <td>...</td>\n",
       "      <td>...</td>\n",
       "    </tr>\n",
       "    <tr>\n",
       "      <th>351</th>\n",
       "      <td>2024-06-10 00:00:00+05:30</td>\n",
       "      <td>23319.150391</td>\n",
       "      <td>23411.900391</td>\n",
       "      <td>23227.150391</td>\n",
       "      <td>23259.199219</td>\n",
       "      <td>304400</td>\n",
       "      <td>0.0</td>\n",
       "      <td>0.0</td>\n",
       "    </tr>\n",
       "    <tr>\n",
       "      <th>352</th>\n",
       "      <td>2024-06-11 00:00:00+05:30</td>\n",
       "      <td>23283.750000</td>\n",
       "      <td>23389.449219</td>\n",
       "      <td>23206.650391</td>\n",
       "      <td>23264.849609</td>\n",
       "      <td>305200</td>\n",
       "      <td>0.0</td>\n",
       "      <td>0.0</td>\n",
       "    </tr>\n",
       "    <tr>\n",
       "      <th>353</th>\n",
       "      <td>2024-06-12 00:00:00+05:30</td>\n",
       "      <td>23344.449219</td>\n",
       "      <td>23441.949219</td>\n",
       "      <td>23295.949219</td>\n",
       "      <td>23322.949219</td>\n",
       "      <td>295600</td>\n",
       "      <td>0.0</td>\n",
       "      <td>0.0</td>\n",
       "    </tr>\n",
       "    <tr>\n",
       "      <th>354</th>\n",
       "      <td>2024-06-13 00:00:00+05:30</td>\n",
       "      <td>23480.949219</td>\n",
       "      <td>23481.050781</td>\n",
       "      <td>23353.900391</td>\n",
       "      <td>23398.900391</td>\n",
       "      <td>268300</td>\n",
       "      <td>0.0</td>\n",
       "      <td>0.0</td>\n",
       "    </tr>\n",
       "    <tr>\n",
       "      <th>355</th>\n",
       "      <td>2024-06-14 00:00:00+05:30</td>\n",
       "      <td>23464.949219</td>\n",
       "      <td>23490.400391</td>\n",
       "      <td>23334.250000</td>\n",
       "      <td>23465.599609</td>\n",
       "      <td>223100</td>\n",
       "      <td>0.0</td>\n",
       "      <td>0.0</td>\n",
       "    </tr>\n",
       "  </tbody>\n",
       "</table>\n",
       "<p>356 rows × 8 columns</p>\n",
       "</div>"
      ],
      "text/plain": [
       "                         Date          Open          High           Low  \\\n",
       "0   2023-01-02 00:00:00+05:30  18131.699219  18215.150391  18086.500000   \n",
       "1   2023-01-03 00:00:00+05:30  18163.199219  18251.949219  18149.800781   \n",
       "2   2023-01-04 00:00:00+05:30  18230.650391  18243.000000  18020.599609   \n",
       "3   2023-01-05 00:00:00+05:30  18101.949219  18120.300781  17892.599609   \n",
       "4   2023-01-06 00:00:00+05:30  18008.050781  18047.400391  17795.550781   \n",
       "..                        ...           ...           ...           ...   \n",
       "351 2024-06-10 00:00:00+05:30  23319.150391  23411.900391  23227.150391   \n",
       "352 2024-06-11 00:00:00+05:30  23283.750000  23389.449219  23206.650391   \n",
       "353 2024-06-12 00:00:00+05:30  23344.449219  23441.949219  23295.949219   \n",
       "354 2024-06-13 00:00:00+05:30  23480.949219  23481.050781  23353.900391   \n",
       "355 2024-06-14 00:00:00+05:30  23464.949219  23490.400391  23334.250000   \n",
       "\n",
       "            Close  Volume  Dividends  Stock Splits  \n",
       "0    18197.449219  256100        0.0           0.0  \n",
       "1    18232.550781  208700        0.0           0.0  \n",
       "2    18042.949219  235200        0.0           0.0  \n",
       "3    17992.150391  269900        0.0           0.0  \n",
       "4    17859.449219  238200        0.0           0.0  \n",
       "..            ...     ...        ...           ...  \n",
       "351  23259.199219  304400        0.0           0.0  \n",
       "352  23264.849609  305200        0.0           0.0  \n",
       "353  23322.949219  295600        0.0           0.0  \n",
       "354  23398.900391  268300        0.0           0.0  \n",
       "355  23465.599609  223100        0.0           0.0  \n",
       "\n",
       "[356 rows x 8 columns]"
      ]
     },
     "execution_count": 168,
     "metadata": {},
     "output_type": "execute_result"
    }
   ],
   "source": [
    "nifty_data"
   ]
  },
  {
   "cell_type": "code",
   "execution_count": 169,
   "id": "c3d5d28d-d57e-49d3-b3f2-95ae9da301be",
   "metadata": {},
   "outputs": [
    {
     "data": {
      "text/html": [
       "<div>\n",
       "<style scoped>\n",
       "    .dataframe tbody tr th:only-of-type {\n",
       "        vertical-align: middle;\n",
       "    }\n",
       "\n",
       "    .dataframe tbody tr th {\n",
       "        vertical-align: top;\n",
       "    }\n",
       "\n",
       "    .dataframe thead th {\n",
       "        text-align: right;\n",
       "    }\n",
       "</style>\n",
       "<table border=\"1\" class=\"dataframe\">\n",
       "  <thead>\n",
       "    <tr style=\"text-align: right;\">\n",
       "      <th></th>\n",
       "      <th>Date</th>\n",
       "      <th>Open</th>\n",
       "      <th>High</th>\n",
       "      <th>Low</th>\n",
       "      <th>Close</th>\n",
       "      <th>Volume</th>\n",
       "      <th>Dividends</th>\n",
       "      <th>Stock Splits</th>\n",
       "    </tr>\n",
       "  </thead>\n",
       "  <tbody>\n",
       "    <tr>\n",
       "      <th>0</th>\n",
       "      <td>2023-01-02 00:00:00+05:30</td>\n",
       "      <td>60871.238281</td>\n",
       "      <td>61222.789062</td>\n",
       "      <td>60764.628906</td>\n",
       "      <td>61167.789062</td>\n",
       "      <td>18500</td>\n",
       "      <td>0.0</td>\n",
       "      <td>0.0</td>\n",
       "    </tr>\n",
       "    <tr>\n",
       "      <th>1</th>\n",
       "      <td>2023-01-03 00:00:00+05:30</td>\n",
       "      <td>61074.878906</td>\n",
       "      <td>61343.960938</td>\n",
       "      <td>61004.039062</td>\n",
       "      <td>61294.199219</td>\n",
       "      <td>6700</td>\n",
       "      <td>0.0</td>\n",
       "      <td>0.0</td>\n",
       "    </tr>\n",
       "    <tr>\n",
       "      <th>2</th>\n",
       "      <td>2023-01-04 00:00:00+05:30</td>\n",
       "      <td>61294.648438</td>\n",
       "      <td>61327.210938</td>\n",
       "      <td>60593.558594</td>\n",
       "      <td>60657.449219</td>\n",
       "      <td>7900</td>\n",
       "      <td>0.0</td>\n",
       "      <td>0.0</td>\n",
       "    </tr>\n",
       "    <tr>\n",
       "      <th>3</th>\n",
       "      <td>2023-01-05 00:00:00+05:30</td>\n",
       "      <td>60847.500000</td>\n",
       "      <td>60877.058594</td>\n",
       "      <td>60049.839844</td>\n",
       "      <td>60353.269531</td>\n",
       "      <td>8900</td>\n",
       "      <td>0.0</td>\n",
       "      <td>0.0</td>\n",
       "    </tr>\n",
       "    <tr>\n",
       "      <th>4</th>\n",
       "      <td>2023-01-06 00:00:00+05:30</td>\n",
       "      <td>60388.738281</td>\n",
       "      <td>60537.628906</td>\n",
       "      <td>59669.910156</td>\n",
       "      <td>59900.371094</td>\n",
       "      <td>8600</td>\n",
       "      <td>0.0</td>\n",
       "      <td>0.0</td>\n",
       "    </tr>\n",
       "    <tr>\n",
       "      <th>...</th>\n",
       "      <td>...</td>\n",
       "      <td>...</td>\n",
       "      <td>...</td>\n",
       "      <td>...</td>\n",
       "      <td>...</td>\n",
       "      <td>...</td>\n",
       "      <td>...</td>\n",
       "      <td>...</td>\n",
       "    </tr>\n",
       "    <tr>\n",
       "      <th>350</th>\n",
       "      <td>2024-06-10 00:00:00+05:30</td>\n",
       "      <td>76935.406250</td>\n",
       "      <td>77079.039062</td>\n",
       "      <td>76379.726562</td>\n",
       "      <td>76490.078125</td>\n",
       "      <td>17300</td>\n",
       "      <td>0.0</td>\n",
       "      <td>0.0</td>\n",
       "    </tr>\n",
       "    <tr>\n",
       "      <th>351</th>\n",
       "      <td>2024-06-11 00:00:00+05:30</td>\n",
       "      <td>76680.898438</td>\n",
       "      <td>76860.531250</td>\n",
       "      <td>76296.437500</td>\n",
       "      <td>76456.593750</td>\n",
       "      <td>6700</td>\n",
       "      <td>0.0</td>\n",
       "      <td>0.0</td>\n",
       "    </tr>\n",
       "    <tr>\n",
       "      <th>352</th>\n",
       "      <td>2024-06-12 00:00:00+05:30</td>\n",
       "      <td>76679.109375</td>\n",
       "      <td>77050.531250</td>\n",
       "      <td>76533.781250</td>\n",
       "      <td>76606.570312</td>\n",
       "      <td>9700</td>\n",
       "      <td>0.0</td>\n",
       "      <td>0.0</td>\n",
       "    </tr>\n",
       "    <tr>\n",
       "      <th>353</th>\n",
       "      <td>2024-06-13 00:00:00+05:30</td>\n",
       "      <td>77102.046875</td>\n",
       "      <td>77145.460938</td>\n",
       "      <td>76719.703125</td>\n",
       "      <td>76810.898438</td>\n",
       "      <td>7500</td>\n",
       "      <td>0.0</td>\n",
       "      <td>0.0</td>\n",
       "    </tr>\n",
       "    <tr>\n",
       "      <th>354</th>\n",
       "      <td>2024-06-14 00:00:00+05:30</td>\n",
       "      <td>76912.382812</td>\n",
       "      <td>77081.296875</td>\n",
       "      <td>76549.046875</td>\n",
       "      <td>76992.773438</td>\n",
       "      <td>12400</td>\n",
       "      <td>0.0</td>\n",
       "      <td>0.0</td>\n",
       "    </tr>\n",
       "  </tbody>\n",
       "</table>\n",
       "<p>355 rows × 8 columns</p>\n",
       "</div>"
      ],
      "text/plain": [
       "                         Date          Open          High           Low  \\\n",
       "0   2023-01-02 00:00:00+05:30  60871.238281  61222.789062  60764.628906   \n",
       "1   2023-01-03 00:00:00+05:30  61074.878906  61343.960938  61004.039062   \n",
       "2   2023-01-04 00:00:00+05:30  61294.648438  61327.210938  60593.558594   \n",
       "3   2023-01-05 00:00:00+05:30  60847.500000  60877.058594  60049.839844   \n",
       "4   2023-01-06 00:00:00+05:30  60388.738281  60537.628906  59669.910156   \n",
       "..                        ...           ...           ...           ...   \n",
       "350 2024-06-10 00:00:00+05:30  76935.406250  77079.039062  76379.726562   \n",
       "351 2024-06-11 00:00:00+05:30  76680.898438  76860.531250  76296.437500   \n",
       "352 2024-06-12 00:00:00+05:30  76679.109375  77050.531250  76533.781250   \n",
       "353 2024-06-13 00:00:00+05:30  77102.046875  77145.460938  76719.703125   \n",
       "354 2024-06-14 00:00:00+05:30  76912.382812  77081.296875  76549.046875   \n",
       "\n",
       "            Close  Volume  Dividends  Stock Splits  \n",
       "0    61167.789062   18500        0.0           0.0  \n",
       "1    61294.199219    6700        0.0           0.0  \n",
       "2    60657.449219    7900        0.0           0.0  \n",
       "3    60353.269531    8900        0.0           0.0  \n",
       "4    59900.371094    8600        0.0           0.0  \n",
       "..            ...     ...        ...           ...  \n",
       "350  76490.078125   17300        0.0           0.0  \n",
       "351  76456.593750    6700        0.0           0.0  \n",
       "352  76606.570312    9700        0.0           0.0  \n",
       "353  76810.898438    7500        0.0           0.0  \n",
       "354  76992.773438   12400        0.0           0.0  \n",
       "\n",
       "[355 rows x 8 columns]"
      ]
     },
     "execution_count": 169,
     "metadata": {},
     "output_type": "execute_result"
    }
   ],
   "source": [
    "sensex_data"
   ]
  },
  {
   "cell_type": "code",
   "execution_count": 170,
   "id": "f8aeba66-65ff-43a8-8a05-97aecbad29cf",
   "metadata": {},
   "outputs": [
    {
     "data": {
      "text/plain": [
       "Text(0, 0.5, 'Nifty Price')"
      ]
     },
     "execution_count": 170,
     "metadata": {},
     "output_type": "execute_result"
    },
    {
     "data": {
      "image/png": "[encoded data removed]",
      "text/plain": [
       "<Figure size 640x480 with 1 Axes>"
      ]
     },
     "metadata": {},
     "output_type": "display_data"
    }
   ],
   "source": [
    "temp = []\n",
    "for i in range(len(nifty_data)): temp.append(i);\n",
    "plt.plot(temp, nifty_data.Close)\n",
    "plt.xlabel(\"Days\")\n",
    "plt.ylabel(\"Nifty Price\")"
   ]
  },
  {
   "cell_type": "code",
   "execution_count": 171,
   "id": "55fdb622-686a-4882-9ae7-f7aab92f6dd6",
   "metadata": {},
   "outputs": [
    {
     "data": {
      "text/plain": [
       "Text(0, 0.5, 'Sensex Price')"
      ]
     },
     "execution_count": 171,
     "metadata": {},
     "output_type": "execute_result"
    },
    {
     "data": {
      "image/png": "[encoded data removed]",
      "text/plain": [
       "<Figure size 640x480 with 1 Axes>"
      ]
     },
     "metadata": {},
     "output_type": "display_data"
    }
   ],
   "source": [
    "temp = []\n",
    "for i in range(len(sensex_data)): temp.append(i);\n",
    "plt.plot(temp, sensex_data.Close)\n",
    "plt.xlabel(\"Days\")\n",
    "plt.ylabel(\"Sensex Price\")"
   ]
  },
  {
   "cell_type": "markdown",
   "id": "543416b2-3bf3-4adb-952e-b7249c8c4482",
   "metadata": {},
   "source": [
    "### Calculating Daily Returns of the Indices"
   ]
  },
  {
   "cell_type": "code",
   "execution_count": 172,
   "id": "64a2929c-2c5a-447c-a57a-27b43490b4f6",
   "metadata": {},
   "outputs": [],
   "source": [
    "nifty_data['Returns'] = nifty_data['Close'].pct_change()\n",
    "sensex_data['Returns'] = sensex_data['Close'].pct_change()"
   ]
  },
  {
   "cell_type": "code",
   "execution_count": 173,
   "id": "0e35e9b5-b64e-4d95-b07e-ec1cc42f0993",
   "metadata": {},
   "outputs": [
    {
     "data": {
      "text/plain": [
       "<Axes: xlabel='Returns', ylabel='Count'>"
      ]
     },
     "execution_count": 173,
     "metadata": {},
     "output_type": "execute_result"
    },
    {
     "data": {
      "image/png": "[encoded data removed]",
      "text/plain": [
       "<Figure size 640x480 with 1 Axes>"
      ]
     },
     "metadata": {},
     "output_type": "display_data"
    }
   ],
   "source": [
    "sns.histplot(nifty_data.Returns)"
   ]
  },
  {
   "cell_type": "code",
   "execution_count": 174,
   "id": "048945a2-ca11-444e-8d38-eaf6a81f2046",
   "metadata": {},
   "outputs": [
    {
     "data": {
      "text/plain": [
       "<Axes: xlabel='Returns', ylabel='Count'>"
      ]
     },
     "execution_count": 174,
     "metadata": {},
     "output_type": "execute_result"
    },
    {
     "data": {
      "image/png": "[encoded data removed]",
      "text/plain": [
       "<Figure size 640x480 with 1 Axes>"
      ]
     },
     "metadata": {},
     "output_type": "display_data"
    }
   ],
   "source": [
    "sns.histplot(sensex_data.Returns)"
   ]
  },
  {
   "cell_type": "markdown",
   "id": "3fbcacb6-6193-415d-8421-ca3bdd9899e8",
   "metadata": {},
   "source": [
    "### Calculating Mean and Volatilities"
   ]
  },
  {
   "cell_type": "code",
   "execution_count": 175,
   "id": "279ee6ac-d165-4529-8909-27ed86b1ea15",
   "metadata": {},
   "outputs": [],
   "source": [
    "nifty_mean = nifty_data.Returns.mean()\n",
    "nifty_1st_std = nifty_data.Returns.std()\n",
    "nifty_2nd_std = 2*nifty_1st_std\n",
    "sensex_mean = sensex_data.Returns.mean()\n",
    "sensex_1st_std = sensex_data.Returns.std()\n",
    "sensex_2nd_std = 2*sensex_1st_std"
   ]
  },
  {
   "cell_type": "code",
   "execution_count": 176,
   "id": "bb292805-b4f7-45df-97ec-f8e238d37176",
   "metadata": {},
   "outputs": [
    {
     "name": "stdout",
     "output_type": "stream",
     "text": [
      "0.0007457904597610533 0.0076500873425828205 0.0006797426058856785 0.00768338786139108\n"
     ]
    }
   ],
   "source": [
    "print(nifty_mean, nifty_1st_std, sensex_mean, sensex_1st_std)"
   ]
  },
  {
   "cell_type": "markdown",
   "id": "fc78c04d-4e54-493c-8785-5f772cdb88df",
   "metadata": {},
   "source": [
    "### Calculating Range in which the Indices are likely to trade"
   ]
  },
  {
   "cell_type": "markdown",
   "id": "c3b94ff5-26b0-43ee-b085-8038a9021d5b",
   "metadata": {},
   "source": [
    "#### No. of trading days in 30 days = 21\n",
    "#### No. of trading days in 3 months = 63\n",
    "#### No. of trading days in 6 months = 126"
   ]
  },
  {
   "cell_type": "code",
   "execution_count": 177,
   "id": "ec0878b9-f7a8-4b63-9240-18bae525856b",
   "metadata": {},
   "outputs": [],
   "source": [
    "# a) 30 days (21 days)\n",
    "nifty_lower_bound_1st_30days = nifty_data.loc[len(nifty_data)-1, 'Close'] * (1 + (nifty_mean*21 - nifty_1st_std*np.sqrt(21)))\n",
    "nifty_upper_bound_1st_30days = nifty_data.loc[len(nifty_data)-1, 'Close'] * (1 + (nifty_mean*21 + nifty_1st_std*np.sqrt(21)))\n",
    "nifty_lower_bound_2nd_30days = nifty_data.loc[len(nifty_data)-1, 'Close'] * (1 + (nifty_mean*21 - nifty_2nd_std*np.sqrt(21)))\n",
    "nifty_upper_bound_2nd_30days = nifty_data.loc[len(nifty_data)-1, 'Close'] * (1 + (nifty_mean*21 + nifty_2nd_std*np.sqrt(21)))\n",
    "\n",
    "# b) 3 months (63 days)\n",
    "nifty_lower_bound_1st_3months = nifty_data.loc[len(nifty_data)-1, 'Close'] * (1 + (nifty_mean*63 - nifty_1st_std*np.sqrt(63)))\n",
    "nifty_upper_bound_1st_3months = nifty_data.loc[len(nifty_data)-1, 'Close'] * (1 + (nifty_mean*63 + nifty_1st_std*np.sqrt(63)))\n",
    "nifty_lower_bound_2nd_3months = nifty_data.loc[len(nifty_data)-1, 'Close'] * (1 + (nifty_mean*63 - nifty_2nd_std*np.sqrt(63)))\n",
    "nifty_upper_bound_2nd_3months = nifty_data.loc[len(nifty_data)-1, 'Close'] * (1 + (nifty_mean*63 + nifty_2nd_std*np.sqrt(63)))\n",
    "\n",
    "# c) 6 months (126 days)\n",
    "nifty_lower_bound_1st_6months = nifty_data.loc[len(nifty_data)-1, 'Close'] * (1 + (nifty_mean*126 - nifty_1st_std*np.sqrt(126)))\n",
    "nifty_upper_bound_1st_6months = nifty_data.loc[len(nifty_data)-1, 'Close'] * (1 + (nifty_mean*126 + nifty_1st_std*np.sqrt(126)))\n",
    "nifty_lower_bound_2nd_6months = nifty_data.loc[len(nifty_data)-1, 'Close'] * (1 + (nifty_mean*126 - nifty_2nd_std*np.sqrt(126)))\n",
    "nifty_upper_bound_2nd_6months = nifty_data.loc[len(nifty_data)-1, 'Close'] * (1 + (nifty_mean*126 + nifty_2nd_std*np.sqrt(126)))\n"
   ]
  },
  {
   "cell_type": "code",
   "execution_count": 178,
   "id": "8b289572-c174-4dc3-9311-28ab8c063f74",
   "metadata": {},
   "outputs": [],
   "source": [
    "# a) 30 days (21 days)\n",
    "sensex_lower_bound_1st_30days = sensex_data.loc[len(sensex_data)-1, 'Close'] * (1 + (sensex_mean*21 - sensex_1st_std*np.sqrt(21)))\n",
    "sensex_upper_bound_1st_30days = sensex_data.loc[len(sensex_data)-1, 'Close'] * (1 + (sensex_mean*21 + sensex_1st_std*np.sqrt(21)))\n",
    "sensex_lower_bound_2nd_30days = sensex_data.loc[len(sensex_data)-1, 'Close'] * (1 + (sensex_mean*21 - sensex_2nd_std*np.sqrt(21)))\n",
    "sensex_upper_bound_2nd_30days = sensex_data.loc[len(sensex_data)-1, 'Close'] * (1 + (sensex_mean*21 + sensex_2nd_std*np.sqrt(21)))\n",
    "\n",
    "# b) 3 months (63 days)\n",
    "sensex_lower_bound_1st_3months = sensex_data.loc[len(sensex_data)-1, 'Close'] * (1 + (sensex_mean*63 - sensex_1st_std*np.sqrt(63)))\n",
    "sensex_upper_bound_1st_3months = sensex_data.loc[len(sensex_data)-1, 'Close'] * (1 + (sensex_mean*63 + sensex_1st_std*np.sqrt(63)))\n",
    "sensex_lower_bound_2nd_3months = sensex_data.loc[len(sensex_data)-1, 'Close'] * (1 + (sensex_mean*63 - sensex_2nd_std*np.sqrt(63)))\n",
    "sensex_upper_bound_2nd_3months = sensex_data.loc[len(sensex_data)-1, 'Close'] * (1 + (sensex_mean*63 + sensex_2nd_std*np.sqrt(63)))\n",
    "\n",
    "# c) 6 months (126 days)\n",
    "sensex_lower_bound_1st_6months = sensex_data.loc[len(sensex_data)-1, 'Close'] * (1 + (sensex_mean*126 - sensex_1st_std*np.sqrt(126)))\n",
    "sensex_upper_bound_1st_6months = sensex_data.loc[len(sensex_data)-1, 'Close'] * (1 + (sensex_mean*126 + sensex_1st_std*np.sqrt(126)))\n",
    "sensex_lower_bound_2nd_6months = sensex_data.loc[len(sensex_data)-1, 'Close'] * (1 + (sensex_mean*126 - sensex_2nd_std*np.sqrt(126)))\n",
    "sensex_upper_bound_2nd_6months = sensex_data.loc[len(sensex_data)-1, 'Close'] * (1 + (sensex_mean*126 + sensex_2nd_std*np.sqrt(126)))\n"
   ]
  },
  {
   "cell_type": "code",
   "execution_count": 179,
   "id": "34b90abd-98f3-4d58-abb0-5e092db11fe7",
   "metadata": {},
   "outputs": [
    {
     "name": "stdout",
     "output_type": "stream",
     "text": [
      "nifty 30 days price 68% confidence interval: [23010.47246267432, 24655.744409567957] \n",
      "nifty 30 days price 95% confidence interval: [22187.836489227502, 25478.38038301477] \n",
      "\n",
      "nifty 3 months price 68% confidence interval: [23143.27878746964, 25992.973391757172] \n",
      "nifty 3 months price 95% confidence interval: [21718.431485325873, 27417.820693900943] \n",
      "\n",
      "nifty 6 months price 68% confidence interval: [23655.61419084939, 27685.690948854244] \n",
      "nifty 6 months price 95% confidence interval: [21640.575811846957, 29700.72932785668] \n",
      "\n"
     ]
    }
   ],
   "source": [
    "print(f\"nifty 30 days price 68% confidence interval: [{nifty_lower_bound_1st_30days}, {nifty_upper_bound_1st_30days}] \")\n",
    "print(f\"nifty 30 days price 95% confidence interval: [{nifty_lower_bound_2nd_30days}, {nifty_upper_bound_2nd_30days}] \")\n",
    "print()\n",
    "\n",
    "print(f\"nifty 3 months price 68% confidence interval: [{nifty_lower_bound_1st_3months}, {nifty_upper_bound_1st_3months}] \")\n",
    "print(f\"nifty 3 months price 95% confidence interval: [{nifty_lower_bound_2nd_3months}, {nifty_upper_bound_2nd_3months}] \")\n",
    "print()\n",
    "\n",
    "print(f\"nifty 6 months price 68% confidence interval: [{nifty_lower_bound_1st_6months}, {nifty_upper_bound_1st_6months}] \")\n",
    "print(f\"nifty 6 months price 95% confidence interval: [{nifty_lower_bound_2nd_6months}, {nifty_upper_bound_2nd_6months}] \")\n",
    "print()"
   ]
  },
  {
   "cell_type": "code",
   "execution_count": 180,
   "id": "825c17e2-adf4-4102-a263-ed6488935fc7",
   "metadata": {},
   "outputs": [
    {
     "name": "stdout",
     "output_type": "stream",
     "text": [
      "sensex 30 days price 68% confidence interval: [75380.92112203385, 80802.70702789858] \n",
      "sensex 30 days price 95% confidence interval: [72670.02816910147, 83513.59998083094] \n",
      "\n",
      "sensex 3 months price 68% confidence interval: [75594.49102153935, 84985.29967825791] \n",
      "sensex 3 months price 95% confidence interval: [70899.08669318006, 89680.7040066172] \n",
      "\n",
      "sensex 6 months price 68% confidence interval: [76946.71278030622, 90227.3217442883] \n",
      "sensex 6 months price 95% confidence interval: [70306.40829831517, 96867.62622627935] \n",
      "\n"
     ]
    }
   ],
   "source": [
    "print(f\"sensex 30 days price 68% confidence interval: [{sensex_lower_bound_1st_30days}, {sensex_upper_bound_1st_30days}] \")\n",
    "print(f\"sensex 30 days price 95% confidence interval: [{sensex_lower_bound_2nd_30days}, {sensex_upper_bound_2nd_30days}] \")\n",
    "print()\n",
    "\n",
    "print(f\"sensex 3 months price 68% confidence interval: [{sensex_lower_bound_1st_3months}, {sensex_upper_bound_1st_3months}] \")\n",
    "print(f\"sensex 3 months price 95% confidence interval: [{sensex_lower_bound_2nd_3months}, {sensex_upper_bound_2nd_3months}] \")\n",
    "print()\n",
    "\n",
    "print(f\"sensex 6 months price 68% confidence interval: [{sensex_lower_bound_1st_6months}, {sensex_upper_bound_1st_6months}] \")\n",
    "print(f\"sensex 6 months price 95% confidence interval: [{sensex_lower_bound_2nd_6months}, {sensex_upper_bound_2nd_6months}] \")\n",
    "print()"
   ]
  },
  {
   "cell_type": "markdown",
   "id": "3b30e0cc-a596-4332-a65b-d72fe429652f",
   "metadata": {},
   "source": [
    "### Strategy: Short Strangle"
   ]
  },
  {
   "cell_type": "markdown",
   "id": "f27a0ed6-8f12-4a3a-b655-bf4373073e60",
   "metadata": {},
   "source": [
    "#### Short Strangle is used with the Break-even Points closest to the Lower and Upper Bounds of the 68% Confidence Interval"
   ]
  },
  {
   "cell_type": "code",
   "execution_count": 181,
   "id": "f7c49aca-d3c7-4220-b3c9-5e165b69ebb6",
   "metadata": {},
   "outputs": [],
   "source": [
    "nifty_lower_bound = nifty_lower_bound_1st_30days\n",
    "nifty_upper_bound = nifty_upper_bound_1st_30days\n",
    "sensex_lower_bound = sensex_lower_bound_1st_30days\n",
    "sensex_upper_bound = sensex_upper_bound_1st_30days"
   ]
  },
  {
   "cell_type": "code",
   "execution_count": 182,
   "id": "3429a22f-0c46-4986-aeaa-49f7fe78573e",
   "metadata": {},
   "outputs": [],
   "source": [
    "# Short Strangle\n",
    "# lower_bound = put_strike_price - put_premium - call_premium\n",
    "# upper_bound = call_strike_price + put_premium + call_premium"
   ]
  },
  {
   "cell_type": "markdown",
   "id": "32579432-90fc-4a3e-a418-0a547e557007",
   "metadata": {},
   "source": [
    "# Task-3"
   ]
  },
  {
   "cell_type": "code",
   "execution_count": 183,
   "id": "62cf6fe8-72b8-461c-93bd-5dddf5dd3127",
   "metadata": {},
   "outputs": [],
   "source": [
    "import yfinance as yf\n",
    "import pandas as pd\n",
    "import matplotlib.pyplot as plt\n",
    "import seaborn as sns\n",
    "import numpy as np"
   ]
  },
  {
   "cell_type": "markdown",
   "id": "9f548262-55d3-43f2-aee2-9f42b030ca87",
   "metadata": {},
   "source": [
    "### Importing Stock's Historical Data"
   ]
  },
  {
   "cell_type": "code",
   "execution_count": 184,
   "id": "acc36b57-2909-44b7-9eff-755b9b1cb8f6",
   "metadata": {},
   "outputs": [
    {
     "name": "stdin",
     "output_type": "stream",
     "text": [
      "Enter Stock Symbol:  ^NSEI\n",
      "Enter start date (yyyy-mm-dd):  2023-01-01\n",
      "Enter end date (yyyy-mm-dd):  2024-01-01\n",
      "Enter the level of confidence for the predicted stock price (without % sign):  68\n",
      "For how many days do you want to set the stop-loss levels:  30\n"
     ]
    }
   ],
   "source": [
    "# symbol = \"^NSEI\"\n",
    "symbol = input(\"Enter Stock Symbol: \")\n",
    "# start_date = \"2023-01-01\"\n",
    "start_date = input(\"Enter start date (yyyy-mm-dd): \")\n",
    "# end_date = \"2024-01-01\"\n",
    "end_date = input(\"Enter end date (yyyy-mm-dd): \")\n",
    "# level_of_confidence = 68\n",
    "level_of_confidence = int(input(\"Enter the level of confidence for the predicted stock price (without % sign): \"))\n",
    "# num_days = 30\n",
    "num_days = int(input(\"For how many days do you want to set the stop-loss levels: \"))"
   ]
  },
  {
   "cell_type": "code",
   "execution_count": 185,
   "id": "34bc3495-099e-49f6-8229-4f1c75303dc5",
   "metadata": {},
   "outputs": [],
   "source": [
    "stock = yf.Ticker(symbol)\n",
    "data = stock.history(start=start_date, end=end_date)"
   ]
  },
  {
   "cell_type": "code",
   "execution_count": 186,
   "id": "714c7c41-4a50-48a1-984a-f8a40310c468",
   "metadata": {},
   "outputs": [],
   "source": [
    "data.reset_index(inplace=True)"
   ]
  },
  {
   "cell_type": "code",
   "execution_count": 187,
   "id": "559a9cd9-1b01-4c2f-a7d4-38294081dba0",
   "metadata": {},
   "outputs": [
    {
     "data": {
      "text/html": [
       "<div>\n",
       "<style scoped>\n",
       "    .dataframe tbody tr th:only-of-type {\n",
       "        vertical-align: middle;\n",
       "    }\n",
       "\n",
       "    .dataframe tbody tr th {\n",
       "        vertical-align: top;\n",
       "    }\n",
       "\n",
       "    .dataframe thead th {\n",
       "        text-align: right;\n",
       "    }\n",
       "</style>\n",
       "<table border=\"1\" class=\"dataframe\">\n",
       "  <thead>\n",
       "    <tr style=\"text-align: right;\">\n",
       "      <th></th>\n",
       "      <th>Date</th>\n",
       "      <th>Open</th>\n",
       "      <th>High</th>\n",
       "      <th>Low</th>\n",
       "      <th>Close</th>\n",
       "      <th>Volume</th>\n",
       "      <th>Dividends</th>\n",
       "      <th>Stock Splits</th>\n",
       "    </tr>\n",
       "  </thead>\n",
       "  <tbody>\n",
       "    <tr>\n",
       "      <th>0</th>\n",
       "      <td>2023-01-02 00:00:00+05:30</td>\n",
       "      <td>18131.699219</td>\n",
       "      <td>18215.150391</td>\n",
       "      <td>18086.500000</td>\n",
       "      <td>18197.449219</td>\n",
       "      <td>256100</td>\n",
       "      <td>0.0</td>\n",
       "      <td>0.0</td>\n",
       "    </tr>\n",
       "    <tr>\n",
       "      <th>1</th>\n",
       "      <td>2023-01-03 00:00:00+05:30</td>\n",
       "      <td>18163.199219</td>\n",
       "      <td>18251.949219</td>\n",
       "      <td>18149.800781</td>\n",
       "      <td>18232.550781</td>\n",
       "      <td>208700</td>\n",
       "      <td>0.0</td>\n",
       "      <td>0.0</td>\n",
       "    </tr>\n",
       "    <tr>\n",
       "      <th>2</th>\n",
       "      <td>2023-01-04 00:00:00+05:30</td>\n",
       "      <td>18230.650391</td>\n",
       "      <td>18243.000000</td>\n",
       "      <td>18020.599609</td>\n",
       "      <td>18042.949219</td>\n",
       "      <td>235200</td>\n",
       "      <td>0.0</td>\n",
       "      <td>0.0</td>\n",
       "    </tr>\n",
       "    <tr>\n",
       "      <th>3</th>\n",
       "      <td>2023-01-05 00:00:00+05:30</td>\n",
       "      <td>18101.949219</td>\n",
       "      <td>18120.300781</td>\n",
       "      <td>17892.599609</td>\n",
       "      <td>17992.150391</td>\n",
       "      <td>269900</td>\n",
       "      <td>0.0</td>\n",
       "      <td>0.0</td>\n",
       "    </tr>\n",
       "    <tr>\n",
       "      <th>4</th>\n",
       "      <td>2023-01-06 00:00:00+05:30</td>\n",
       "      <td>18008.050781</td>\n",
       "      <td>18047.400391</td>\n",
       "      <td>17795.550781</td>\n",
       "      <td>17859.449219</td>\n",
       "      <td>238200</td>\n",
       "      <td>0.0</td>\n",
       "      <td>0.0</td>\n",
       "    </tr>\n",
       "    <tr>\n",
       "      <th>...</th>\n",
       "      <td>...</td>\n",
       "      <td>...</td>\n",
       "      <td>...</td>\n",
       "      <td>...</td>\n",
       "      <td>...</td>\n",
       "      <td>...</td>\n",
       "      <td>...</td>\n",
       "      <td>...</td>\n",
       "    </tr>\n",
       "    <tr>\n",
       "      <th>240</th>\n",
       "      <td>2023-12-22 00:00:00+05:30</td>\n",
       "      <td>21295.849609</td>\n",
       "      <td>21390.500000</td>\n",
       "      <td>21232.449219</td>\n",
       "      <td>21349.400391</td>\n",
       "      <td>284700</td>\n",
       "      <td>0.0</td>\n",
       "      <td>0.0</td>\n",
       "    </tr>\n",
       "    <tr>\n",
       "      <th>241</th>\n",
       "      <td>2023-12-26 00:00:00+05:30</td>\n",
       "      <td>21365.199219</td>\n",
       "      <td>21477.150391</td>\n",
       "      <td>21329.449219</td>\n",
       "      <td>21441.349609</td>\n",
       "      <td>219500</td>\n",
       "      <td>0.0</td>\n",
       "      <td>0.0</td>\n",
       "    </tr>\n",
       "    <tr>\n",
       "      <th>242</th>\n",
       "      <td>2023-12-27 00:00:00+05:30</td>\n",
       "      <td>21497.650391</td>\n",
       "      <td>21675.750000</td>\n",
       "      <td>21495.800781</td>\n",
       "      <td>21654.750000</td>\n",
       "      <td>256500</td>\n",
       "      <td>0.0</td>\n",
       "      <td>0.0</td>\n",
       "    </tr>\n",
       "    <tr>\n",
       "      <th>243</th>\n",
       "      <td>2023-12-28 00:00:00+05:30</td>\n",
       "      <td>21715.000000</td>\n",
       "      <td>21801.449219</td>\n",
       "      <td>21678.000000</td>\n",
       "      <td>21778.699219</td>\n",
       "      <td>393100</td>\n",
       "      <td>0.0</td>\n",
       "      <td>0.0</td>\n",
       "    </tr>\n",
       "    <tr>\n",
       "      <th>244</th>\n",
       "      <td>2023-12-29 00:00:00+05:30</td>\n",
       "      <td>21737.650391</td>\n",
       "      <td>21770.300781</td>\n",
       "      <td>21676.900391</td>\n",
       "      <td>21731.400391</td>\n",
       "      <td>270900</td>\n",
       "      <td>0.0</td>\n",
       "      <td>0.0</td>\n",
       "    </tr>\n",
       "  </tbody>\n",
       "</table>\n",
       "<p>245 rows × 8 columns</p>\n",
       "</div>"
      ],
      "text/plain": [
       "                         Date          Open          High           Low  \\\n",
       "0   2023-01-02 00:00:00+05:30  18131.699219  18215.150391  18086.500000   \n",
       "1   2023-01-03 00:00:00+05:30  18163.199219  18251.949219  18149.800781   \n",
       "2   2023-01-04 00:00:00+05:30  18230.650391  18243.000000  18020.599609   \n",
       "3   2023-01-05 00:00:00+05:30  18101.949219  18120.300781  17892.599609   \n",
       "4   2023-01-06 00:00:00+05:30  18008.050781  18047.400391  17795.550781   \n",
       "..                        ...           ...           ...           ...   \n",
       "240 2023-12-22 00:00:00+05:30  21295.849609  21390.500000  21232.449219   \n",
       "241 2023-12-26 00:00:00+05:30  21365.199219  21477.150391  21329.449219   \n",
       "242 2023-12-27 00:00:00+05:30  21497.650391  21675.750000  21495.800781   \n",
       "243 2023-12-28 00:00:00+05:30  21715.000000  21801.449219  21678.000000   \n",
       "244 2023-12-29 00:00:00+05:30  21737.650391  21770.300781  21676.900391   \n",
       "\n",
       "            Close  Volume  Dividends  Stock Splits  \n",
       "0    18197.449219  256100        0.0           0.0  \n",
       "1    18232.550781  208700        0.0           0.0  \n",
       "2    18042.949219  235200        0.0           0.0  \n",
       "3    17992.150391  269900        0.0           0.0  \n",
       "4    17859.449219  238200        0.0           0.0  \n",
       "..            ...     ...        ...           ...  \n",
       "240  21349.400391  284700        0.0           0.0  \n",
       "241  21441.349609  219500        0.0           0.0  \n",
       "242  21654.750000  256500        0.0           0.0  \n",
       "243  21778.699219  393100        0.0           0.0  \n",
       "244  21731.400391  270900        0.0           0.0  \n",
       "\n",
       "[245 rows x 8 columns]"
      ]
     },
     "execution_count": 187,
     "metadata": {},
     "output_type": "execute_result"
    }
   ],
   "source": [
    "data"
   ]
  },
  {
   "cell_type": "code",
   "execution_count": 188,
   "id": "5859e793-988d-4f1d-a78c-f9d3a05c60f8",
   "metadata": {},
   "outputs": [
    {
     "data": {
      "text/plain": [
       "Text(0, 0.5, 'Stock Price')"
      ]
     },
     "execution_count": 188,
     "metadata": {},
     "output_type": "execute_result"
    },
    {
     "data": {
      "image/png": "[encoded data removed]",
      "text/plain": [
       "<Figure size 640x480 with 1 Axes>"
      ]
     },
     "metadata": {},
     "output_type": "display_data"
    }
   ],
   "source": [
    "temp = []\n",
    "for i in range(len(data)): temp.append(i);\n",
    "plt.plot(temp, data.Close)\n",
    "plt.xlabel(\"Days\")\n",
    "plt.ylabel(\"Stock Price\")"
   ]
  },
  {
   "cell_type": "markdown",
   "id": "f08386b8-1db7-47e8-8f0f-a47b99fb9881",
   "metadata": {},
   "source": [
    "### Calculating Daily Returns of the Stock"
   ]
  },
  {
   "cell_type": "code",
   "execution_count": 189,
   "id": "55d5f71d-f02b-4b37-9218-7ca0734703d4",
   "metadata": {},
   "outputs": [],
   "source": [
    "data['Returns'] = data['Close'].pct_change()\n",
    "data_mean = data.Returns.mean()\n",
    "data_std = data.Returns.std()"
   ]
  },
  {
   "cell_type": "code",
   "execution_count": 190,
   "id": "79ea6365-c93f-4fa8-aee8-ae8f3aaeaea4",
   "metadata": {},
   "outputs": [
    {
     "name": "stdout",
     "output_type": "stream",
     "text": [
      "mean = 0.0007467008345380175\n",
      "standard deviation = 0.006189547507420009\n"
     ]
    }
   ],
   "source": [
    "print(f\"mean = {data_mean}\")\n",
    "print(f\"standard deviation = {data_std}\")"
   ]
  },
  {
   "cell_type": "code",
   "execution_count": 191,
   "id": "b2ff2182-a992-46a2-a0d7-e9bd2b8263aa",
   "metadata": {},
   "outputs": [
    {
     "data": {
      "text/plain": [
       "<Axes: xlabel='Returns', ylabel='Count'>"
      ]
     },
     "execution_count": 191,
     "metadata": {},
     "output_type": "execute_result"
    },
    {
     "data": {
      "image/png": "[encoded data removed]",
      "text/plain": [
       "<Figure size 640x480 with 1 Axes>"
      ]
     },
     "metadata": {},
     "output_type": "display_data"
    }
   ],
   "source": [
    "sns.histplot(data.Returns)"
   ]
  },
  {
   "cell_type": "markdown",
   "id": "c62e20fe-08ba-4ab3-a842-a3f25ac87265",
   "metadata": {},
   "source": [
    "### Calculating Stop-loss Prices"
   ]
  },
  {
   "cell_type": "code",
   "execution_count": 192,
   "id": "7c84f498-1656-4ac9-b397-aac37c0821f5",
   "metadata": {},
   "outputs": [],
   "source": [
    "import scipy.stats as stats\n",
    "def z_score(level_of_confidence):\n",
    "    c = level_of_confidence / 100\n",
    "    z_score = stats.norm.ppf((1 + c) / 2)\n",
    "    return z_score"
   ]
  },
  {
   "cell_type": "code",
   "execution_count": 194,
   "id": "be2b8757-f11e-45ba-af41-398dc0ea85f2",
   "metadata": {},
   "outputs": [],
   "source": [
    "lower_bound = []\n",
    "for i in range(1,num_days+1):\n",
    "    lower_bound.append(data['Close'][len(data)-1] * (1 + (data_mean * i - data_std * z_score(level_of_confidence) * np.sqrt(i))))"
   ]
  },
  {
   "cell_type": "code",
   "execution_count": 195,
   "id": "75363e8c-ea26-438c-b5d5-15029f884a0b",
   "metadata": {},
   "outputs": [
    {
     "data": {
      "text/plain": [
       "Text(0, 0.5, 'Stop-loss Price')"
      ]
     },
     "execution_count": 195,
     "metadata": {},
     "output_type": "execute_result"
    },
    {
     "data": {
      "image/png": "[encoded data removed]",
      "text/plain": [
       "<Figure size 640x480 with 1 Axes>"
      ]
     },
     "metadata": {},
     "output_type": "display_data"
    }
   ],
   "source": [
    "temp = []\n",
    "for i in range(num_days): temp.append(i)\n",
    "plt.plot(temp,lower_bound)    \n",
    "plt.xlabel(\"Days\")\n",
    "plt.ylabel(\"Stop-loss Price\")"
   ]
  },
  {
   "cell_type": "markdown",
   "id": "624e03d8-112c-476c-92da-468a95a4e448",
   "metadata": {},
   "source": [
    "#### Note:- The reason behind the parabolic shape of the graph is the difference in rate of change of f(x)=x and f(x)=sqrt(x). Initially, f(x)=sqrt(x) rises faster than f(x)=x but later f(x)=x rises faster than f(x)=sqrt(x). Thus, the value of (data_mean * i - data_std * z_score(level_of_confidence) * np.sqrt(i)) first decreases then increases as i increases."
   ]
  },
  {
   "cell_type": "code",
   "execution_count": 197,
   "id": "91218842-d1b1-408f-8ab2-f5aed8b4a7d2",
   "metadata": {},
   "outputs": [
    {
     "name": "stdin",
     "output_type": "stream",
     "text": [
      "Enter the day for which you want the stop-loss price:  20\n"
     ]
    },
    {
     "name": "stdout",
     "output_type": "stream",
     "text": [
      "Stop-loss price = 21460.99143461208 \n"
     ]
    }
   ],
   "source": [
    "# day = 20\n",
    "day = int(input(\"Enter the day for which you want the stop-loss price: \"))\n",
    "print(f\"Stop-loss price = {lower_bound[1+day]} \")"
   ]
  },
  {
   "cell_type": "markdown",
   "id": "0cd0cd39-5da1-49a0-b59f-649502da247d",
   "metadata": {},
   "source": [
    "# Task-4"
   ]
  },
  {
   "cell_type": "code",
   "execution_count": 198,
   "id": "136d7f2c-4d2a-4201-8976-1e75c78e50f8",
   "metadata": {},
   "outputs": [],
   "source": [
    "import pandas as pd\n",
    "import matplotlib.pyplot as plt"
   ]
  },
  {
   "cell_type": "markdown",
   "id": "a1e4aee7-d1bd-4c5c-a3ec-4f05373d3b97",
   "metadata": {},
   "source": [
    "### Storing Option Spread Details"
   ]
  },
  {
   "cell_type": "code",
   "execution_count": 199,
   "id": "cd79257c-217f-4be0-9933-41bec2022c21",
   "metadata": {},
   "outputs": [
    {
     "name": "stdout",
     "output_type": "stream",
     "text": [
      "Enter options details\n"
     ]
    },
    {
     "name": "stdin",
     "output_type": "stream",
     "text": [
      "Enter total number of options:  4\n"
     ]
    },
    {
     "name": "stdout",
     "output_type": "stream",
     "text": [
      "\n",
      "Enter details of Option 1:\n"
     ]
    },
    {
     "name": "stdin",
     "output_type": "stream",
     "text": [
      "Enter Option type (call/put):  call\n",
      "Enter the position taken on the option (short/long):  short\n",
      "Enter Option Strike Price:  9000\n",
      "Enter Option Premium:  94.9\n"
     ]
    },
    {
     "name": "stdout",
     "output_type": "stream",
     "text": [
      "\n",
      "Enter details of Option 2:\n"
     ]
    },
    {
     "name": "stdin",
     "output_type": "stream",
     "text": [
      "Enter Option type (call/put):  call\n",
      "Enter the position taken on the option (short/long):  short\n",
      "Enter Option Strike Price:  9000\n",
      "Enter Option Premium:  94.9\n"
     ]
    },
    {
     "name": "stdout",
     "output_type": "stream",
     "text": [
      "\n",
      "Enter details of Option 3:\n"
     ]
    },
    {
     "name": "stdin",
     "output_type": "stream",
     "text": [
      "Enter Option type (call/put):  call\n",
      "Enter the position taken on the option (short/long):  long\n",
      "Enter Option Strike Price:  8900\n",
      "Enter Option Premium:  146.96\n"
     ]
    },
    {
     "name": "stdout",
     "output_type": "stream",
     "text": [
      "\n",
      "Enter details of Option 4:\n"
     ]
    },
    {
     "name": "stdin",
     "output_type": "stream",
     "text": [
      "Enter Option type (call/put):  call\n",
      "Enter the position taken on the option (short/long):  long\n",
      "Enter Option Strike Price:  9100\n",
      "Enter Option Premium:  55.85\n"
     ]
    }
   ],
   "source": [
    "print(\"Enter options details\")\n",
    "num_options = int(input(\"Enter total number of options: \"))\n",
    "portfolio = pd.DataFrame(columns=['Option Type','Position','Strike Price','Premium'])\n",
    "for i in range(num_options):\n",
    "    print()\n",
    "    print(f\"Enter details of Option {i+1}:\")\n",
    "    option_type = input(\"Enter Option type (call/put): \").lower()\n",
    "    position = input(\"Enter the position taken on the option (short/long): \").lower()\n",
    "    strike = float(input(\"Enter Option Strike Price: \"))\n",
    "    premium = float(input(\"Enter Option Premium: \"))\n",
    "    portfolio.loc[i] = [option_type,position,strike,premium]"
   ]
  },
  {
   "cell_type": "code",
   "execution_count": 200,
   "id": "68ac7471-25aa-4bb9-a3c9-3ffbc92313ec",
   "metadata": {},
   "outputs": [
    {
     "data": {
      "text/html": [
       "<div>\n",
       "<style scoped>\n",
       "    .dataframe tbody tr th:only-of-type {\n",
       "        vertical-align: middle;\n",
       "    }\n",
       "\n",
       "    .dataframe tbody tr th {\n",
       "        vertical-align: top;\n",
       "    }\n",
       "\n",
       "    .dataframe thead th {\n",
       "        text-align: right;\n",
       "    }\n",
       "</style>\n",
       "<table border=\"1\" class=\"dataframe\">\n",
       "  <thead>\n",
       "    <tr style=\"text-align: right;\">\n",
       "      <th></th>\n",
       "      <th>Option Type</th>\n",
       "      <th>Position</th>\n",
       "      <th>Strike Price</th>\n",
       "      <th>Premium</th>\n",
       "    </tr>\n",
       "  </thead>\n",
       "  <tbody>\n",
       "    <tr>\n",
       "      <th>0</th>\n",
       "      <td>call</td>\n",
       "      <td>short</td>\n",
       "      <td>9000.0</td>\n",
       "      <td>94.90</td>\n",
       "    </tr>\n",
       "    <tr>\n",
       "      <th>1</th>\n",
       "      <td>call</td>\n",
       "      <td>short</td>\n",
       "      <td>9000.0</td>\n",
       "      <td>94.90</td>\n",
       "    </tr>\n",
       "    <tr>\n",
       "      <th>2</th>\n",
       "      <td>call</td>\n",
       "      <td>long</td>\n",
       "      <td>8900.0</td>\n",
       "      <td>146.96</td>\n",
       "    </tr>\n",
       "    <tr>\n",
       "      <th>3</th>\n",
       "      <td>call</td>\n",
       "      <td>long</td>\n",
       "      <td>9100.0</td>\n",
       "      <td>55.85</td>\n",
       "    </tr>\n",
       "  </tbody>\n",
       "</table>\n",
       "</div>"
      ],
      "text/plain": [
       "  Option Type Position  Strike Price  Premium\n",
       "0        call    short        9000.0    94.90\n",
       "1        call    short        9000.0    94.90\n",
       "2        call     long        8900.0   146.96\n",
       "3        call     long        9100.0    55.85"
      ]
     },
     "execution_count": 200,
     "metadata": {},
     "output_type": "execute_result"
    }
   ],
   "source": [
    "portfolio"
   ]
  },
  {
   "cell_type": "markdown",
   "id": "eac0981b-d204-4c90-bc29-7edf70e413aa",
   "metadata": {},
   "source": [
    "### Calculating Net Profit at the Critical Points (Strike Prices) to Plot the P&L Graph"
   ]
  },
  {
   "cell_type": "code",
   "execution_count": 201,
   "id": "f784b2db-da56-41da-b3b7-d205775329e6",
   "metadata": {},
   "outputs": [],
   "source": [
    "strikes = list(portfolio['Strike Price'].unique())\n",
    "strikes.sort()"
   ]
  },
  {
   "cell_type": "code",
   "execution_count": 202,
   "id": "e64f7864-e343-4146-87d5-5c2de3d18f31",
   "metadata": {},
   "outputs": [],
   "source": [
    "diff = strikes[-1] - strikes[0]\n",
    "strikes.insert(0,max(strikes[0]-diff,0))\n",
    "strikes.append(strikes[-1]+diff)"
   ]
  },
  {
   "cell_type": "code",
   "execution_count": 203,
   "id": "0a4ae7c7-b425-4009-9bc7-4433eadca82f",
   "metadata": {},
   "outputs": [],
   "source": [
    "def net_profit(portfolio, underlying):\n",
    "    profit = 0\n",
    "    for index,row in portfolio.iterrows():\n",
    "        if row['Position']==\"long\":\n",
    "            profit -= row['Premium']\n",
    "            if row['Option Type']==\"call\": profit += max(0,underlying-row['Strike Price'])\n",
    "            else: profit += max(0,row['Strike Price']-underlying)    \n",
    "        else:\n",
    "            profit += row['Premium']\n",
    "            if row['Option Type']==\"call\": profit -= max(0,underlying-row['Strike Price'])\n",
    "            else: profit -= max(0,row['Strike Price']-underlying)\n",
    "    return profit            "
   ]
  },
  {
   "cell_type": "code",
   "execution_count": 204,
   "id": "4d2e80ea-0f0a-4174-a299-0b446b5d4ea4",
   "metadata": {},
   "outputs": [],
   "source": [
    "profits = []\n",
    "for underlying in strikes: profits.append(net_profit(portfolio,underlying))"
   ]
  },
  {
   "cell_type": "code",
   "execution_count": 209,
   "id": "c5521e25-3642-4fe2-b3b3-f67746723dca",
   "metadata": {},
   "outputs": [],
   "source": [
    "profits = [round(value, 2) for value in profits]"
   ]
  },
  {
   "cell_type": "code",
   "execution_count": 210,
   "id": "9e433a5b-bc70-4938-95eb-d9099579c95a",
   "metadata": {},
   "outputs": [
    {
     "data": {
      "text/plain": [
       "[-13.01, -13.01, 86.99, -13.01, -13.01]"
      ]
     },
     "execution_count": 210,
     "metadata": {},
     "output_type": "execute_result"
    }
   ],
   "source": [
    "profits"
   ]
  },
  {
   "cell_type": "markdown",
   "id": "5146764f-3ec3-486c-bcf4-d8d153f7f257",
   "metadata": {},
   "source": [
    "### P&L Graph"
   ]
  },
  {
   "cell_type": "code",
   "execution_count": 211,
   "id": "4a77dd3e-409d-4f2f-8216-55e795e7271f",
   "metadata": {},
   "outputs": [
    {
     "data": {
      "text/plain": [
       "Text(0, 0.5, 'Net Profit')"
      ]
     },
     "execution_count": 211,
     "metadata": {},
     "output_type": "execute_result"
    },
    {
     "data": {
      "image/png": "[encoded data removed]",
      "text/plain": [
       "<Figure size 640x480 with 1 Axes>"
      ]
     },
     "metadata": {},
     "output_type": "display_data"
    }
   ],
   "source": [
    "plt.plot(strikes,profits)\n",
    "if min(profits)<0 and max(profits)>0: plt.axhline(y=0, xmin=0, xmax=1, color='grey')\n",
    "plt.xlabel(\"Underlying Value\")\n",
    "plt.ylabel(\"Net Profit\")"
   ]
  },
  {
   "cell_type": "markdown",
   "id": "02785561-4c95-4f81-b008-f4788767897b",
   "metadata": {},
   "source": [
    "### Calculating Max Profit and Max Loss of the Portfolio"
   ]
  },
  {
   "cell_type": "code",
   "execution_count": 212,
   "id": "d77fdc76-2040-4157-8689-192fa799b79a",
   "metadata": {},
   "outputs": [],
   "source": [
    "max_profit,max_loss=0,0\n",
    "if profits[0]>profits[1] or profits[-1]>profits[-2]: max_profit = \"Unlimited\"\n",
    "else: max_profit = max(profits)\n",
    "if profits[0]<profits[1] or profits[-1]<profits[-2]: max_loss = \"Unlimited\"    \n",
    "else: max_loss = (-1)*min(profits)"
   ]
  },
  {
   "cell_type": "code",
   "execution_count": 213,
   "id": "4f5b439d-3ed8-444a-b1a7-2eb8a072e6de",
   "metadata": {},
   "outputs": [
    {
     "name": "stdout",
     "output_type": "stream",
     "text": [
      "Max Profit = 86.99 \n",
      "Max Loss = 13.01 \n"
     ]
    }
   ],
   "source": [
    "print(f\"Max Profit = {max_profit} \")\n",
    "print(f\"Max Loss = {max_loss} \")"
   ]
  },
  {
   "cell_type": "markdown",
   "id": "4f9ae9d9-a964-4080-942e-f94aebf3ae51",
   "metadata": {},
   "source": [
    "# Task-5"
   ]
  },
  {
   "cell_type": "code",
   "execution_count": 214,
   "id": "7a191991-1394-494e-bc18-d917cb7ecba4",
   "metadata": {},
   "outputs": [
    {
     "name": "stdin",
     "output_type": "stream",
     "text": [
      "Enter the stock price:  1200\n",
      "Enter the strike price of the put option:  1000\n",
      "Enter the premium of the put option:  100\n"
     ]
    }
   ],
   "source": [
    "stock_price = int(input(\"Enter the stock price: \"))\n",
    "strike_price = int(input(\"Enter the strike price of the put option: \"))\n",
    "premium = int(input(\"Enter the premium of the put option: \"))"
   ]
  },
  {
   "cell_type": "markdown",
   "id": "72656af5-d95d-43e7-8146-afe38523cbaf",
   "metadata": {},
   "source": [
    "### Function to Calculate Cost of Setting up and Max loss of the Protective Put"
   ]
  },
  {
   "cell_type": "code",
   "execution_count": 215,
   "id": "ed811fca-ccc4-44dc-a02e-8adaa458e0d1",
   "metadata": {},
   "outputs": [],
   "source": [
    "def protective_put(stock_price, strike_price, premium):\n",
    "    cost = premium\n",
    "    max_loss = stock_price + premium - strike_price\n",
    "    return cost, max_loss"
   ]
  },
  {
   "cell_type": "code",
   "execution_count": 216,
   "id": "5a03574e-809b-4f6e-aa69-f1e2350c3407",
   "metadata": {},
   "outputs": [
    {
     "name": "stdout",
     "output_type": "stream",
     "text": [
      "Cost of setting up the protective put considering you already own the stock = 100 \n",
      "Max Profit (of entire portfolio) = Stock price at expiry - 1300 \n",
      "Max Loss (of entire portfolio) = 300 \n"
     ]
    }
   ],
   "source": [
    "cost, max_loss = protective_put(stock_price, strike_price, premium)\n",
    "print(f\"Cost of setting up the protective put considering you already own the stock = {cost} \")\n",
    "print(f\"Max Profit (of entire portfolio) = Stock price at expiry - {stock_price + premium} \")\n",
    "print(f\"Max Loss (of entire portfolio) = {max_loss} \")"
   ]
  }
 ],
 "metadata": {
  "kernelspec": {
   "display_name": "Python 3 (ipykernel)",
   "language": "python",
   "name": "python3"
  },
  "language_info": {
   "codemirror_mode": {
    "name": "ipython",
    "version": 3
   },
   "file_extension": ".py",
   "mimetype": "text/x-python",
   "name": "python",
   "nbconvert_exporter": "python",
   "pygments_lexer": "ipython3",
   "version": "3.12.2"
  }
 },
 "nbformat": 4,
 "nbformat_minor": 5
}
